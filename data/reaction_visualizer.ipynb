{
 "cells": [
  {
   "cell_type": "code",
   "execution_count": 39,
   "metadata": {},
   "outputs": [],
   "source": [
    "import pandas as pd\n",
    "from rdkit.Chem import Draw, AllChem"
   ]
  },
  {
   "cell_type": "code",
   "execution_count": 40,
   "metadata": {},
   "outputs": [
    {
     "data": {
      "text/html": [
       "<div>\n",
       "<style scoped>\n",
       "    .dataframe tbody tr th:only-of-type {\n",
       "        vertical-align: middle;\n",
       "    }\n",
       "\n",
       "    .dataframe tbody tr th {\n",
       "        vertical-align: top;\n",
       "    }\n",
       "\n",
       "    .dataframe thead th {\n",
       "        text-align: right;\n",
       "    }\n",
       "</style>\n",
       "<table border=\"1\" class=\"dataframe\">\n",
       "  <thead>\n",
       "    <tr style=\"text-align: right;\">\n",
       "      <th></th>\n",
       "      <th>rxn_smiles</th>\n",
       "      <th>reactants</th>\n",
       "      <th>products</th>\n",
       "      <th>retro_template</th>\n",
       "    </tr>\n",
       "  </thead>\n",
       "  <tbody>\n",
       "    <tr>\n",
       "      <th>0</th>\n",
       "      <td>O=C(OCc1ccccc1)[NH:1][CH2:2][CH2:3][CH2:4][CH2...</td>\n",
       "      <td>O=C(OCc1ccccc1)[NH:1][CH2:2][CH2:3][CH2:4][CH2...</td>\n",
       "      <td>[NH2:1][CH2:2][CH2:3][CH2:4][CH2:5][C@@H:6]([C...</td>\n",
       "      <td>([C:2]-[NH2;D1;+0:1])&gt;&gt;(O=C(-O-C-c1:c:c:c:c:c:...</td>\n",
       "    </tr>\n",
       "    <tr>\n",
       "      <th>1</th>\n",
       "      <td>O[C:1](=[O:2])[c:3]1[cH:4][c:5]([N+:6](=[O:7])...</td>\n",
       "      <td>O[C:1](=[O:2])[c:3]1[cH:4][c:5]([N+:6](=[O:7])...</td>\n",
       "      <td>[C:1](=[O:2])([c:3]1[cH:4][c:5]([N+:6](=[O:7])...</td>\n",
       "      <td>([#16;a:4]:[c:3]-[C;H0;D3;+0:1](=[O;D1;H0:2])-...</td>\n",
       "    </tr>\n",
       "    <tr>\n",
       "      <th>2</th>\n",
       "      <td>O=[CH:1][c:2]1[cH:3][cH:4][c:5](-[c:6]2[n:7][c...</td>\n",
       "      <td>O=[CH:1][c:2]1[cH:3][cH:4][c:5](-[c:6]2[n:7][c...</td>\n",
       "      <td>[CH2:1]([c:2]1[cH:3][cH:4][c:5](-[c:6]2[n:7][c...</td>\n",
       "      <td>([C:3]-[N;H0;D3;+0:4](-[C:5])-[CH2;D2;+0:1]-[c...</td>\n",
       "    </tr>\n",
       "    <tr>\n",
       "      <th>3</th>\n",
       "      <td>O=[C:1]([CH2:2][F:3])[CH2:4][F:5].[CH3:6][C:7]...</td>\n",
       "      <td>O=[C:1]([CH2:2][F:3])[CH2:4][F:5].[CH3:6][C:7]...</td>\n",
       "      <td>[CH:1]([CH2:2][F:3])([CH2:4][F:5])[N:35]1[CH2:...</td>\n",
       "      <td>([C:2]-[CH;D3;+0:1](-[C:3])-[N;H0;D3;+0:5](-[C...</td>\n",
       "    </tr>\n",
       "    <tr>\n",
       "      <th>4</th>\n",
       "      <td>Cl[C:1](=[O:2])[O:3][CH:4]1[CH2:5][CH2:6][CH2:...</td>\n",
       "      <td>Cl[C:1](=[O:2])[O:3][CH:4]1[CH2:5][CH2:6][CH2:...</td>\n",
       "      <td>[C:1](=[O:2])([O:3][CH:4]1[CH2:5][CH2:6][CH2:7...</td>\n",
       "      <td>([#8:2]-[C;H0;D3;+0:1](=[O;D1;H0:3])-[N;H0;D3;...</td>\n",
       "    </tr>\n",
       "    <tr>\n",
       "      <th>...</th>\n",
       "      <td>...</td>\n",
       "      <td>...</td>\n",
       "      <td>...</td>\n",
       "      <td>...</td>\n",
       "    </tr>\n",
       "    <tr>\n",
       "      <th>42038</th>\n",
       "      <td>O[C:1]1([CH:2]2[CH2:3][CH2:4]2)[c:5]2[c:6]([cH...</td>\n",
       "      <td>O[C:1]1([CH:2]2[CH2:3][CH2:4]2)[c:5]2[c:6]([cH...</td>\n",
       "      <td>[CH:1]1([CH:2]2[CH2:3][CH2:4]2)[c:5]2[c:6]([cH...</td>\n",
       "      <td>([C:2]-[CH;D3;+0:1](-[C:3])-[c:4])&gt;&gt;(O-[C;H0;D...</td>\n",
       "    </tr>\n",
       "    <tr>\n",
       "      <th>42039</th>\n",
       "      <td>Br[c:1]1[cH:2][cH:3][cH:4][c:5]([CH:6]=[C:7]2[...</td>\n",
       "      <td>Br[c:1]1[cH:2][cH:3][cH:4][c:5]([CH:6]=[C:7]2[...</td>\n",
       "      <td>[c:1]1([C:23]#[N:24])[cH:2][cH:3][cH:4][c:5]([...</td>\n",
       "      <td>([N;D1;H0:5]#[C;H0;D2;+0:4]-[c;H0;D3;+0:1](:[c...</td>\n",
       "    </tr>\n",
       "    <tr>\n",
       "      <th>42040</th>\n",
       "      <td>O=[CH:1][n:2]1[c:3](-[c:4]2[c:5]([CH3:6])[n:7]...</td>\n",
       "      <td>O=[CH:1][n:2]1[c:3](-[c:4]2[c:5]([CH3:6])[n:7]...</td>\n",
       "      <td>[CH:1]([n:2]1[c:3](-[c:4]2[c:5]([CH3:6])[n:7][...</td>\n",
       "      <td>([#7;a:2]-[CH;D2;+0:1]=[N;H0;D2;+0:3]-[O;D1;H1...</td>\n",
       "    </tr>\n",
       "    <tr>\n",
       "      <th>42041</th>\n",
       "      <td>Br[c:1]1[n:2][c:3]([NH:4][CH2:5][CH2:6][CH2:7]...</td>\n",
       "      <td>Br[c:1]1[n:2][c:3]([NH:4][CH2:5][CH2:6][CH2:7]...</td>\n",
       "      <td>[cH:1]1[n:2][c:3]([NH:4][CH2:5][CH2:6][CH2:7][...</td>\n",
       "      <td>([#7;a:4]:[c:3]:[cH;D2;+0:1]:[#7;a:2])&gt;&gt;(Br-[c...</td>\n",
       "    </tr>\n",
       "    <tr>\n",
       "      <th>42042</th>\n",
       "      <td>[N-]=[N+]=[N:1][CH2:2][CH:3]1[CH2:4][CH2:5][N:...</td>\n",
       "      <td>[N-]=[N+]=[N:1][CH2:2][CH:3]1[CH2:4][CH2:5][N:...</td>\n",
       "      <td>[NH2:1][CH2:2][CH:3]1[CH2:4][CH2:5][N:6]([C:7]...</td>\n",
       "      <td>([C:1]-[NH2;D1;+0:2])&gt;&gt;([C:1]-[N;H0;D2;+0:2]=[...</td>\n",
       "    </tr>\n",
       "  </tbody>\n",
       "</table>\n",
       "<p>42043 rows × 4 columns</p>\n",
       "</div>"
      ],
      "text/plain": [
       "                                              rxn_smiles  \\\n",
       "0      O=C(OCc1ccccc1)[NH:1][CH2:2][CH2:3][CH2:4][CH2...   \n",
       "1      O[C:1](=[O:2])[c:3]1[cH:4][c:5]([N+:6](=[O:7])...   \n",
       "2      O=[CH:1][c:2]1[cH:3][cH:4][c:5](-[c:6]2[n:7][c...   \n",
       "3      O=[C:1]([CH2:2][F:3])[CH2:4][F:5].[CH3:6][C:7]...   \n",
       "4      Cl[C:1](=[O:2])[O:3][CH:4]1[CH2:5][CH2:6][CH2:...   \n",
       "...                                                  ...   \n",
       "42038  O[C:1]1([CH:2]2[CH2:3][CH2:4]2)[c:5]2[c:6]([cH...   \n",
       "42039  Br[c:1]1[cH:2][cH:3][cH:4][c:5]([CH:6]=[C:7]2[...   \n",
       "42040  O=[CH:1][n:2]1[c:3](-[c:4]2[c:5]([CH3:6])[n:7]...   \n",
       "42041  Br[c:1]1[n:2][c:3]([NH:4][CH2:5][CH2:6][CH2:7]...   \n",
       "42042  [N-]=[N+]=[N:1][CH2:2][CH:3]1[CH2:4][CH2:5][N:...   \n",
       "\n",
       "                                               reactants  \\\n",
       "0      O=C(OCc1ccccc1)[NH:1][CH2:2][CH2:3][CH2:4][CH2...   \n",
       "1      O[C:1](=[O:2])[c:3]1[cH:4][c:5]([N+:6](=[O:7])...   \n",
       "2      O=[CH:1][c:2]1[cH:3][cH:4][c:5](-[c:6]2[n:7][c...   \n",
       "3      O=[C:1]([CH2:2][F:3])[CH2:4][F:5].[CH3:6][C:7]...   \n",
       "4      Cl[C:1](=[O:2])[O:3][CH:4]1[CH2:5][CH2:6][CH2:...   \n",
       "...                                                  ...   \n",
       "42038  O[C:1]1([CH:2]2[CH2:3][CH2:4]2)[c:5]2[c:6]([cH...   \n",
       "42039  Br[c:1]1[cH:2][cH:3][cH:4][c:5]([CH:6]=[C:7]2[...   \n",
       "42040  O=[CH:1][n:2]1[c:3](-[c:4]2[c:5]([CH3:6])[n:7]...   \n",
       "42041  Br[c:1]1[n:2][c:3]([NH:4][CH2:5][CH2:6][CH2:7]...   \n",
       "42042  [N-]=[N+]=[N:1][CH2:2][CH:3]1[CH2:4][CH2:5][N:...   \n",
       "\n",
       "                                                products  \\\n",
       "0      [NH2:1][CH2:2][CH2:3][CH2:4][CH2:5][C@@H:6]([C...   \n",
       "1      [C:1](=[O:2])([c:3]1[cH:4][c:5]([N+:6](=[O:7])...   \n",
       "2      [CH2:1]([c:2]1[cH:3][cH:4][c:5](-[c:6]2[n:7][c...   \n",
       "3      [CH:1]([CH2:2][F:3])([CH2:4][F:5])[N:35]1[CH2:...   \n",
       "4      [C:1](=[O:2])([O:3][CH:4]1[CH2:5][CH2:6][CH2:7...   \n",
       "...                                                  ...   \n",
       "42038  [CH:1]1([CH:2]2[CH2:3][CH2:4]2)[c:5]2[c:6]([cH...   \n",
       "42039  [c:1]1([C:23]#[N:24])[cH:2][cH:3][cH:4][c:5]([...   \n",
       "42040  [CH:1]([n:2]1[c:3](-[c:4]2[c:5]([CH3:6])[n:7][...   \n",
       "42041  [cH:1]1[n:2][c:3]([NH:4][CH2:5][CH2:6][CH2:7][...   \n",
       "42042  [NH2:1][CH2:2][CH:3]1[CH2:4][CH2:5][N:6]([C:7]...   \n",
       "\n",
       "                                          retro_template  \n",
       "0      ([C:2]-[NH2;D1;+0:1])>>(O=C(-O-C-c1:c:c:c:c:c:...  \n",
       "1      ([#16;a:4]:[c:3]-[C;H0;D3;+0:1](=[O;D1;H0:2])-...  \n",
       "2      ([C:3]-[N;H0;D3;+0:4](-[C:5])-[CH2;D2;+0:1]-[c...  \n",
       "3      ([C:2]-[CH;D3;+0:1](-[C:3])-[N;H0;D3;+0:5](-[C...  \n",
       "4      ([#8:2]-[C;H0;D3;+0:1](=[O;D1;H0:3])-[N;H0;D3;...  \n",
       "...                                                  ...  \n",
       "42038  ([C:2]-[CH;D3;+0:1](-[C:3])-[c:4])>>(O-[C;H0;D...  \n",
       "42039  ([N;D1;H0:5]#[C;H0;D2;+0:4]-[c;H0;D3;+0:1](:[c...  \n",
       "42040  ([#7;a:2]-[CH;D2;+0:1]=[N;H0;D2;+0:3]-[O;D1;H1...  \n",
       "42041  ([#7;a:4]:[c:3]:[cH;D2;+0:1]:[#7;a:2])>>(Br-[c...  \n",
       "42042  ([C:1]-[NH2;D1;+0:2])>>([C:1]-[N;H0;D2;+0:2]=[...  \n",
       "\n",
       "[42043 rows x 4 columns]"
      ]
     },
     "execution_count": 40,
     "metadata": {},
     "output_type": "execute_result"
    }
   ],
   "source": [
    "df = pd.read_csv('cleaned_uspto50k.csv')\n",
    "df"
   ]
  },
  {
   "cell_type": "code",
   "execution_count": 41,
   "metadata": {},
   "outputs": [
    {
     "data": {
      "text/plain": [
       "42643"
      ]
     },
     "execution_count": 41,
     "metadata": {},
     "output_type": "execute_result"
    }
   ],
   "source": [
    "rxn = AllChem.ReactionFromSmarts(df.loc[1, 'rxn_smiles'])\n",
    "d2d = Draw.MolDraw2DCairo(800, 300)\n",
    "d2d.DrawReaction(rxn)\n",
    "d2d.GetDrawingText()\n",
    "png = d2d.GetDrawingText()\n",
    "open('reaction.png', 'wb+').write(png)"
   ]
  },
  {
   "cell_type": "code",
   "execution_count": 42,
   "metadata": {},
   "outputs": [
    {
     "data": {
      "text/plain": [
       "14794"
      ]
     },
     "execution_count": 42,
     "metadata": {},
     "output_type": "execute_result"
    }
   ],
   "source": [
    "rxn = AllChem.ReactionFromSmarts(df.loc[1, 'retro_template'])\n",
    "d2d = Draw.MolDraw2DCairo(800, 300)\n",
    "d2d.DrawReaction(rxn)\n",
    "d2d.GetDrawingText()\n",
    "png = d2d.GetDrawingText()\n",
    "open('retro-template.png', 'wb+').write(png)"
   ]
  },
  {
   "cell_type": "code",
   "execution_count": 43,
   "metadata": {},
   "outputs": [],
   "source": [
    "from falsify_data import *"
   ]
  },
  {
   "cell_type": "code",
   "execution_count": 44,
   "metadata": {},
   "outputs": [
    {
     "data": {
      "text/plain": [
       "19614"
      ]
     },
     "execution_count": 44,
     "metadata": {},
     "output_type": "execute_result"
    }
   ],
   "source": [
    "rxn = AllChem.ReactionFromSmarts(reverse_temp(df.loc[1, 'retro_template']))\n",
    "d2d = Draw.MolDraw2DCairo(800, 300)\n",
    "d2d.DrawReaction(rxn)\n",
    "d2d.GetDrawingText()\n",
    "png = d2d.GetDrawingText()\n",
    "open('forward-template.png', 'wb+').write(png)"
   ]
  },
  {
   "cell_type": "code",
   "execution_count": 45,
   "metadata": {},
   "outputs": [
    {
     "data": {
      "text/plain": [
       "'(O-[C;H0;D3;+0:1](=[O;D1;H0:2])-[c:3]:[#16;a:4]).([NH2;D1;+0:5]-[c:6])'"
      ]
     },
     "execution_count": 45,
     "metadata": {},
     "output_type": "execute_result"
    }
   ],
   "source": [
    "df.loc[1, 'retro_template'].split('>>')[1]"
   ]
  },
  {
   "cell_type": "code",
   "execution_count": 46,
   "metadata": {},
   "outputs": [
    {
     "data": {
      "text/plain": [
       "'(O-[C;H0;D3;+0:1](=[O;D1;H0:2])-[c:3]:[#16;a:4].[NH2;D1;+0:5]-[c:6])'"
      ]
     },
     "execution_count": 46,
     "metadata": {},
     "output_type": "execute_result"
    }
   ],
   "source": [
    "reverse_temp(df.loc[1, 'retro_template']).split('>>')[0]"
   ]
  }
 ],
 "metadata": {
  "interpreter": {
   "hash": "340bcad0072f115b1765b142a3d880742cff9ef9e50a441d07591b989afd1795"
  },
  "kernelspec": {
   "display_name": "Python 3.10.2 ('AIHacks')",
   "language": "python",
   "name": "python3"
  },
  "language_info": {
   "codemirror_mode": {
    "name": "ipython",
    "version": 3
   },
   "file_extension": ".py",
   "mimetype": "text/x-python",
   "name": "python",
   "nbconvert_exporter": "python",
   "pygments_lexer": "ipython3",
   "version": "3.10.2"
  },
  "orig_nbformat": 4
 },
 "nbformat": 4,
 "nbformat_minor": 2
}
