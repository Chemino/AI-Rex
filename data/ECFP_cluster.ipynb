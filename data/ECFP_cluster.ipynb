{
 "cells": [
  {
   "cell_type": "code",
   "execution_count": 1,
   "metadata": {},
   "outputs": [],
   "source": [
    "%load_ext autoreload\n",
    "%autoreload 2\n",
    "\n",
    "import numpy as np\n",
    "import pandas as pd\n",
    "from rdkit import Chem\n",
    "from rdkit.Chem import AllChem\n",
    "from tqdm import tqdm\n",
    "import matplotlib.pyplot as plt\n",
    "from sklearn.decomposition import PCA\n",
    "import seaborn as sns\n",
    "\n",
    "from falsify_data import removemap\n",
    "from utils import *"
   ]
  },
  {
   "cell_type": "code",
   "execution_count": 2,
   "metadata": {},
   "outputs": [
    {
     "name": "stderr",
     "output_type": "stream",
     "text": [
      "100%|██████████| 42003/42003 [00:26<00:00, 1572.47it/s]\n",
      "100%|██████████| 42003/42003 [00:25<00:00, 1647.48it/s]\n"
     ]
    },
    {
     "data": {
      "text/html": [
       "<div>\n",
       "<style scoped>\n",
       "    .dataframe tbody tr th:only-of-type {\n",
       "        vertical-align: middle;\n",
       "    }\n",
       "\n",
       "    .dataframe tbody tr th {\n",
       "        vertical-align: top;\n",
       "    }\n",
       "\n",
       "    .dataframe thead th {\n",
       "        text-align: right;\n",
       "    }\n",
       "</style>\n",
       "<table border=\"1\" class=\"dataframe\">\n",
       "  <thead>\n",
       "    <tr style=\"text-align: right;\">\n",
       "      <th></th>\n",
       "      <th>rxn_smiles</th>\n",
       "      <th>label</th>\n",
       "    </tr>\n",
       "  </thead>\n",
       "  <tbody>\n",
       "    <tr>\n",
       "      <th>0</th>\n",
       "      <td>COC(=O)[C@H](CCCCNC(=O)OCc1ccccc1)NC(=O)Nc1cc(...</td>\n",
       "      <td>1</td>\n",
       "    </tr>\n",
       "    <tr>\n",
       "      <th>1</th>\n",
       "      <td>Nc1cccc2cnccc12.O=C(O)c1cc([N+](=O)[O-])c(Sc2c...</td>\n",
       "      <td>1</td>\n",
       "    </tr>\n",
       "    <tr>\n",
       "      <th>2</th>\n",
       "      <td>CCNCC.Cc1nc(-c2ccc(C=O)cc2)sc1COc1ccc([C@H](CC...</td>\n",
       "      <td>1</td>\n",
       "    </tr>\n",
       "    <tr>\n",
       "      <th>3</th>\n",
       "      <td>CC1(C)CCC(CN2CCN(c3ccc(C(=O)NS(=O)(=O)c4ccc(NC...</td>\n",
       "      <td>1</td>\n",
       "    </tr>\n",
       "    <tr>\n",
       "      <th>4</th>\n",
       "      <td>CCOc1ccc(Oc2ncnc3c2cnn3C2CCNCC2)c(F)c1.O=C(Cl)...</td>\n",
       "      <td>1</td>\n",
       "    </tr>\n",
       "    <tr>\n",
       "      <th>...</th>\n",
       "      <td>...</td>\n",
       "      <td>...</td>\n",
       "    </tr>\n",
       "    <tr>\n",
       "      <th>41997</th>\n",
       "      <td>CCOC(=O)N1CCc2ccc3c(c2CC1)C(O)(C1CC1)CC3&gt;&gt;CCOC...</td>\n",
       "      <td>1</td>\n",
       "    </tr>\n",
       "    <tr>\n",
       "      <th>41998</th>\n",
       "      <td>Brc1cccc(C=C2c3ccccc3CCc3ccccc32)c1.N#C[Cu]&gt;&gt;N...</td>\n",
       "      <td>1</td>\n",
       "    </tr>\n",
       "    <tr>\n",
       "      <th>41999</th>\n",
       "      <td>Cc1noc(C)c1-c1c(-c2ccc(O)cc2)c2ccccc2n1C=O.NO&gt;...</td>\n",
       "      <td>1</td>\n",
       "    </tr>\n",
       "    <tr>\n",
       "      <th>42000</th>\n",
       "      <td>O=C(NC1CC1)c1ccc(-c2cnc3c(NCCCO)nc(Br)cn23)cc1...</td>\n",
       "      <td>1</td>\n",
       "    </tr>\n",
       "    <tr>\n",
       "      <th>42001</th>\n",
       "      <td>[N-]=[N+]=NCC1CCN(C(c2ccccc2)(c2ccccc2)c2ccccc...</td>\n",
       "      <td>1</td>\n",
       "    </tr>\n",
       "  </tbody>\n",
       "</table>\n",
       "<p>42002 rows × 2 columns</p>\n",
       "</div>"
      ],
      "text/plain": [
       "                                              rxn_smiles  label\n",
       "0      COC(=O)[C@H](CCCCNC(=O)OCc1ccccc1)NC(=O)Nc1cc(...      1\n",
       "1      Nc1cccc2cnccc12.O=C(O)c1cc([N+](=O)[O-])c(Sc2c...      1\n",
       "2      CCNCC.Cc1nc(-c2ccc(C=O)cc2)sc1COc1ccc([C@H](CC...      1\n",
       "3      CC1(C)CCC(CN2CCN(c3ccc(C(=O)NS(=O)(=O)c4ccc(NC...      1\n",
       "4      CCOc1ccc(Oc2ncnc3c2cnn3C2CCNCC2)c(F)c1.O=C(Cl)...      1\n",
       "...                                                  ...    ...\n",
       "41997  CCOC(=O)N1CCc2ccc3c(c2CC1)C(O)(C1CC1)CC3>>CCOC...      1\n",
       "41998  Brc1cccc(C=C2c3ccccc3CCc3ccccc32)c1.N#C[Cu]>>N...      1\n",
       "41999  Cc1noc(C)c1-c1c(-c2ccc(O)cc2)c2ccccc2n1C=O.NO>...      1\n",
       "42000  O=C(NC1CC1)c1ccc(-c2cnc3c(NCCCO)nc(Br)cn23)cc1...      1\n",
       "42001  [N-]=[N+]=NCC1CCN(C(c2ccccc2)(c2ccccc2)c2ccccc...      1\n",
       "\n",
       "[42002 rows x 2 columns]"
      ]
     },
     "execution_count": 2,
     "metadata": {},
     "output_type": "execute_result"
    }
   ],
   "source": [
    "pos_rxn = pd.read_csv('cleaned_uspto50k.csv')\n",
    "pos_rxn['label'] = 1\n",
    "# preprocess to let true dataset look more like false dataset\n",
    "# remove atom map\n",
    "pos_rxn['rxn_smiles'] = [removemap(rxn) for rxn in tqdm(pos_rxn['rxn_smiles'])]\n",
    "pos_rxn_can = []\n",
    "# split reactants & products\n",
    "for rxn in tqdm(pos_rxn['rxn_smiles']):\n",
    "    rt, pt = rxn2rtpt(rxn)\n",
    "    # canonicalize products SMILES\n",
    "    pt = can_SMILES(pt)\n",
    "    # canonicalize reaction SMILES format\n",
    "    pos_rxn_can.append('>>'.join((rt, pt)))\n",
    "pos_rxn['rxn_smiles'] = pos_rxn_can\n",
    "pos_rxn = pos_rxn[['rxn_smiles', 'label']]\n",
    "pos_rxn = pos_rxn.drop_duplicates(subset='rxn_smiles').reset_index(drop=True)\n",
    "pos_rxn"
   ]
  },
  {
   "cell_type": "code",
   "execution_count": 3,
   "metadata": {},
   "outputs": [
    {
     "data": {
      "text/html": [
       "<div>\n",
       "<style scoped>\n",
       "    .dataframe tbody tr th:only-of-type {\n",
       "        vertical-align: middle;\n",
       "    }\n",
       "\n",
       "    .dataframe tbody tr th {\n",
       "        vertical-align: top;\n",
       "    }\n",
       "\n",
       "    .dataframe thead th {\n",
       "        text-align: right;\n",
       "    }\n",
       "</style>\n",
       "<table border=\"1\" class=\"dataframe\">\n",
       "  <thead>\n",
       "    <tr style=\"text-align: right;\">\n",
       "      <th></th>\n",
       "      <th>rxn_smiles</th>\n",
       "      <th>label</th>\n",
       "    </tr>\n",
       "  </thead>\n",
       "  <tbody>\n",
       "    <tr>\n",
       "      <th>0</th>\n",
       "      <td>BrCc1ccccc1.Oc1ccc(O)c(Br)c1&gt;&gt;Oc1ccc(OCc2ccccc...</td>\n",
       "      <td>0</td>\n",
       "    </tr>\n",
       "    <tr>\n",
       "      <th>1</th>\n",
       "      <td>CC(C)(C)OC(=O)NCC1CCNCC1.O=S(=O)(Cl)c1cccc2cnc...</td>\n",
       "      <td>0</td>\n",
       "    </tr>\n",
       "    <tr>\n",
       "      <th>2</th>\n",
       "      <td>CCSc1nc(Cl)cc(C)c1C(=O)NCc1cccc(F)c1.OC[C@H]1C...</td>\n",
       "      <td>0</td>\n",
       "    </tr>\n",
       "    <tr>\n",
       "      <th>3</th>\n",
       "      <td>NCC1(O)CCCC1.O=[N+]([O-])c1cc(Br)ccc1Br&gt;&gt;O=[N+...</td>\n",
       "      <td>0</td>\n",
       "    </tr>\n",
       "    <tr>\n",
       "      <th>4</th>\n",
       "      <td>CCNCC1CCNC1.CCn1cc(C(=O)O)c(=O)c2cc(F)c(Cl)nc2...</td>\n",
       "      <td>0</td>\n",
       "    </tr>\n",
       "    <tr>\n",
       "      <th>...</th>\n",
       "      <td>...</td>\n",
       "      <td>...</td>\n",
       "    </tr>\n",
       "    <tr>\n",
       "      <th>177503</th>\n",
       "      <td>CC(=O)Cl.CCOCc1nc2c(N)nc3cc(OCCCCCCN)ccc3c2n1C...</td>\n",
       "      <td>0</td>\n",
       "    </tr>\n",
       "    <tr>\n",
       "      <th>335241</th>\n",
       "      <td>CC(C)(O)CC(=O)O.N[C@H]1CC[C@H](CCN2CCC(c3cccc4...</td>\n",
       "      <td>0</td>\n",
       "    </tr>\n",
       "    <tr>\n",
       "      <th>88606</th>\n",
       "      <td>CN(C)S(=O)(=O)c1ccccc1Nc1nc(Cl)ncc1Cl.Nc1ccc2c...</td>\n",
       "      <td>0</td>\n",
       "    </tr>\n",
       "    <tr>\n",
       "      <th>317426</th>\n",
       "      <td>Cc1nc2ccccc2[nH]1.Clc1nc(N2CCOCC2)c2sccc2n1&gt;&gt;C...</td>\n",
       "      <td>0</td>\n",
       "    </tr>\n",
       "    <tr>\n",
       "      <th>230372</th>\n",
       "      <td>CN1C(=O)CCN(C2CCCC2)c2nc(Nc3cc(F)c(C(=O)OC(C)(...</td>\n",
       "      <td>0</td>\n",
       "    </tr>\n",
       "  </tbody>\n",
       "</table>\n",
       "<p>43927 rows × 2 columns</p>\n",
       "</div>"
      ],
      "text/plain": [
       "                                               rxn_smiles  label\n",
       "0       BrCc1ccccc1.Oc1ccc(O)c(Br)c1>>Oc1ccc(OCc2ccccc...      0\n",
       "1       CC(C)(C)OC(=O)NCC1CCNCC1.O=S(=O)(Cl)c1cccc2cnc...      0\n",
       "2       CCSc1nc(Cl)cc(C)c1C(=O)NCc1cccc(F)c1.OC[C@H]1C...      0\n",
       "3       NCC1(O)CCCC1.O=[N+]([O-])c1cc(Br)ccc1Br>>O=[N+...      0\n",
       "4       CCNCC1CCNC1.CCn1cc(C(=O)O)c(=O)c2cc(F)c(Cl)nc2...      0\n",
       "...                                                   ...    ...\n",
       "177503  CC(=O)Cl.CCOCc1nc2c(N)nc3cc(OCCCCCCN)ccc3c2n1C...      0\n",
       "335241  CC(C)(O)CC(=O)O.N[C@H]1CC[C@H](CCN2CCC(c3cccc4...      0\n",
       "88606   CN(C)S(=O)(=O)c1ccccc1Nc1nc(Cl)ncc1Cl.Nc1ccc2c...      0\n",
       "317426  Cc1nc2ccccc2[nH]1.Clc1nc(N2CCOCC2)c2sccc2n1>>C...      0\n",
       "230372  CN1C(=O)CCN(C2CCCC2)c2nc(Nc3cc(F)c(C(=O)OC(C)(...      0\n",
       "\n",
       "[43927 rows x 2 columns]"
      ]
     },
     "execution_count": 3,
     "metadata": {},
     "output_type": "execute_result"
    }
   ],
   "source": [
    "neg_rxn_1 = pd.read_csv('negative_strict.csv')\n",
    "neg_rxn_1 = neg_rxn_1[['rxn_smiles', 'label']]\n",
    "neg_rxn_1 = neg_rxn_1.drop_duplicates(subset='rxn_smiles')\n",
    "neg_rxn_2 = pd.read_csv('negative_random_comprehensive.csv')\n",
    "neg_rxn_2 = neg_rxn_2.drop_duplicates(subset='rxn_smiles').reset_index(drop=True)\n",
    "neg_rxn_2 = neg_rxn_2[['rxn_smiles', 'label']]\n",
    "# random sub-sample neg_rxn_2 to have a equally labeled dataset\n",
    "neg_rxn_2 = neg_rxn_2.loc[np.random.choice(a=len(neg_rxn_2), size=42000, replace=False)]\n",
    "neg_rxn_2 = neg_rxn_2.drop_duplicates(subset='rxn_smiles')\n",
    "neg_rxn = pd.concat([neg_rxn_1, neg_rxn_2]).drop_duplicates(subset='rxn_smiles')\n",
    "neg_rxn"
   ]
  },
  {
   "cell_type": "code",
   "execution_count": 4,
   "metadata": {},
   "outputs": [
    {
     "name": "stderr",
     "output_type": "stream",
     "text": [
      "100%|██████████| 85914/85914 [01:01<00:00, 1399.21it/s]\n"
     ]
    },
    {
     "data": {
      "text/html": [
       "<div>\n",
       "<style scoped>\n",
       "    .dataframe tbody tr th:only-of-type {\n",
       "        vertical-align: middle;\n",
       "    }\n",
       "\n",
       "    .dataframe tbody tr th {\n",
       "        vertical-align: top;\n",
       "    }\n",
       "\n",
       "    .dataframe thead th {\n",
       "        text-align: right;\n",
       "    }\n",
       "</style>\n",
       "<table border=\"1\" class=\"dataframe\">\n",
       "  <thead>\n",
       "    <tr style=\"text-align: right;\">\n",
       "      <th></th>\n",
       "      <th>rxn_smiles</th>\n",
       "      <th>label</th>\n",
       "      <th>rt</th>\n",
       "      <th>ECFP4</th>\n",
       "    </tr>\n",
       "  </thead>\n",
       "  <tbody>\n",
       "    <tr>\n",
       "      <th>0</th>\n",
       "      <td>CC(C)N.C[C@@H](NC(=O)c1cn(COCC[Si](C)(C)C)c2nc...</td>\n",
       "      <td>1</td>\n",
       "      <td>CC(C)N.C[C@@H](NC(=O)c1cn(COCC[Si](C)(C)C)c2nc...</td>\n",
       "      <td>[1, 1, 1, 0, 0, 1, 0, 1, 1, 1, 1, 1, 0, 1, 0, ...</td>\n",
       "    </tr>\n",
       "    <tr>\n",
       "      <th>1</th>\n",
       "      <td>CCOc1ncnc2[nH]cc(Cc3ccc(Nc4ccc(Br)nc4)nc3F)c12...</td>\n",
       "      <td>0</td>\n",
       "      <td>CCOc1ncnc2[nH]cc(Cc3ccc(Nc4ccc(Br)nc4)nc3F)c12</td>\n",
       "      <td>[1, 0, 1, 0, 1, 1, 0, 1, 1, 0, 0, 1, 0, 1, 0, ...</td>\n",
       "    </tr>\n",
       "    <tr>\n",
       "      <th>2</th>\n",
       "      <td>CCCC1(O)CCC(C2CCC(COc3ccc(OCC)c(F)c3F)CC2)CO1&gt;...</td>\n",
       "      <td>0</td>\n",
       "      <td>CCCC1(O)CCC(C2CCC(COc3ccc(OCC)c(F)c3F)CC2)CO1</td>\n",
       "      <td>[0, 0, 1, 1, 0, 0, 1, 1, 1, 1, 1, 0, 0, 0, 1, ...</td>\n",
       "    </tr>\n",
       "    <tr>\n",
       "      <th>3</th>\n",
       "      <td>CC(=O)N1CCNCC1.O=Cc1ccnc(Cl)c1F&gt;&gt;CC(=O)N1CCN(C...</td>\n",
       "      <td>1</td>\n",
       "      <td>CC(=O)N1CCNCC1.O=Cc1ccnc(Cl)c1F</td>\n",
       "      <td>[0, 1, 0, 0, 0, 0, 0, 0, 1, 0, 1, 0, 0, 0, 0, ...</td>\n",
       "    </tr>\n",
       "    <tr>\n",
       "      <th>4</th>\n",
       "      <td>COc1cc2c(cc1Cl)N(C)CC(C(=O)O)O2.C[C@@H]1CN(Cc2...</td>\n",
       "      <td>0</td>\n",
       "      <td>COc1cc2c(cc1Cl)N(C)CC(C(=O)O)O2.C[C@@H]1CN(Cc2...</td>\n",
       "      <td>[1, 1, 1, 1, 0, 1, 1, 0, 1, 1, 1, 0, 1, 1, 0, ...</td>\n",
       "    </tr>\n",
       "    <tr>\n",
       "      <th>...</th>\n",
       "      <td>...</td>\n",
       "      <td>...</td>\n",
       "      <td>...</td>\n",
       "      <td>...</td>\n",
       "    </tr>\n",
       "    <tr>\n",
       "      <th>85909</th>\n",
       "      <td>CC(C)(C)c1ccc(Cn2cnc(N)c2C(N)=O)cc1.O=C(Cl)c1c...</td>\n",
       "      <td>1</td>\n",
       "      <td>CC(C)(C)c1ccc(Cn2cnc(N)c2C(N)=O)cc1.O=C(Cl)c1c...</td>\n",
       "      <td>[0, 1, 0, 1, 0, 0, 0, 1, 1, 1, 1, 0, 1, 0, 0, ...</td>\n",
       "    </tr>\n",
       "    <tr>\n",
       "      <th>85910</th>\n",
       "      <td>O=C(Nc1ccc2c(c1)c(-c1nc3cc(N4CCOCC4)ccc3[nH]1)...</td>\n",
       "      <td>1</td>\n",
       "      <td>O=C(Nc1ccc2c(c1)c(-c1nc3cc(N4CCOCC4)ccc3[nH]1)...</td>\n",
       "      <td>[1, 0, 0, 1, 1, 0, 0, 1, 1, 1, 1, 1, 0, 1, 1, ...</td>\n",
       "    </tr>\n",
       "    <tr>\n",
       "      <th>85911</th>\n",
       "      <td>CC(=O)c1nn(C)c(-c2ccc3c(c2)CCC3)c1O.NNC(=O)c1c...</td>\n",
       "      <td>0</td>\n",
       "      <td>CC(=O)c1nn(C)c(-c2ccc3c(c2)CCC3)c1O.NNC(=O)c1c...</td>\n",
       "      <td>[1, 0, 1, 1, 1, 1, 1, 0, 1, 0, 1, 0, 0, 0, 0, ...</td>\n",
       "    </tr>\n",
       "    <tr>\n",
       "      <th>85912</th>\n",
       "      <td>CC(C)(C)OC(=O)N1CCCc2ccc(CCO)nc21.CCCC(CC(=O)O...</td>\n",
       "      <td>0</td>\n",
       "      <td>CC(C)(C)OC(=O)N1CCCc2ccc(CCO)nc21.CCCC(CC(=O)O...</td>\n",
       "      <td>[0, 1, 1, 1, 1, 0, 0, 0, 1, 0, 1, 0, 1, 1, 0, ...</td>\n",
       "    </tr>\n",
       "    <tr>\n",
       "      <th>85913</th>\n",
       "      <td>Cn1c(=O)c(-c2ccc(F)cc2)cc2c3cc(C(=O)CBr)ccc3n(...</td>\n",
       "      <td>1</td>\n",
       "      <td>Cn1c(=O)c(-c2ccc(F)cc2)cc2c3cc(C(=O)CBr)ccc3n(...</td>\n",
       "      <td>[1, 0, 1, 1, 0, 0, 1, 0, 1, 0, 1, 0, 1, 1, 0, ...</td>\n",
       "    </tr>\n",
       "  </tbody>\n",
       "</table>\n",
       "<p>85914 rows × 4 columns</p>\n",
       "</div>"
      ],
      "text/plain": [
       "                                              rxn_smiles  label  \\\n",
       "0      CC(C)N.C[C@@H](NC(=O)c1cn(COCC[Si](C)(C)C)c2nc...      1   \n",
       "1      CCOc1ncnc2[nH]cc(Cc3ccc(Nc4ccc(Br)nc4)nc3F)c12...      0   \n",
       "2      CCCC1(O)CCC(C2CCC(COc3ccc(OCC)c(F)c3F)CC2)CO1>...      0   \n",
       "3      CC(=O)N1CCNCC1.O=Cc1ccnc(Cl)c1F>>CC(=O)N1CCN(C...      1   \n",
       "4      COc1cc2c(cc1Cl)N(C)CC(C(=O)O)O2.C[C@@H]1CN(Cc2...      0   \n",
       "...                                                  ...    ...   \n",
       "85909  CC(C)(C)c1ccc(Cn2cnc(N)c2C(N)=O)cc1.O=C(Cl)c1c...      1   \n",
       "85910  O=C(Nc1ccc2c(c1)c(-c1nc3cc(N4CCOCC4)ccc3[nH]1)...      1   \n",
       "85911  CC(=O)c1nn(C)c(-c2ccc3c(c2)CCC3)c1O.NNC(=O)c1c...      0   \n",
       "85912  CC(C)(C)OC(=O)N1CCCc2ccc(CCO)nc21.CCCC(CC(=O)O...      0   \n",
       "85913  Cn1c(=O)c(-c2ccc(F)cc2)cc2c3cc(C(=O)CBr)ccc3n(...      1   \n",
       "\n",
       "                                                      rt  \\\n",
       "0      CC(C)N.C[C@@H](NC(=O)c1cn(COCC[Si](C)(C)C)c2nc...   \n",
       "1         CCOc1ncnc2[nH]cc(Cc3ccc(Nc4ccc(Br)nc4)nc3F)c12   \n",
       "2          CCCC1(O)CCC(C2CCC(COc3ccc(OCC)c(F)c3F)CC2)CO1   \n",
       "3                        CC(=O)N1CCNCC1.O=Cc1ccnc(Cl)c1F   \n",
       "4      COc1cc2c(cc1Cl)N(C)CC(C(=O)O)O2.C[C@@H]1CN(Cc2...   \n",
       "...                                                  ...   \n",
       "85909  CC(C)(C)c1ccc(Cn2cnc(N)c2C(N)=O)cc1.O=C(Cl)c1c...   \n",
       "85910  O=C(Nc1ccc2c(c1)c(-c1nc3cc(N4CCOCC4)ccc3[nH]1)...   \n",
       "85911  CC(=O)c1nn(C)c(-c2ccc3c(c2)CCC3)c1O.NNC(=O)c1c...   \n",
       "85912  CC(C)(C)OC(=O)N1CCCc2ccc(CCO)nc21.CCCC(CC(=O)O...   \n",
       "85913  Cn1c(=O)c(-c2ccc(F)cc2)cc2c3cc(C(=O)CBr)ccc3n(...   \n",
       "\n",
       "                                                   ECFP4  \n",
       "0      [1, 1, 1, 0, 0, 1, 0, 1, 1, 1, 1, 1, 0, 1, 0, ...  \n",
       "1      [1, 0, 1, 0, 1, 1, 0, 1, 1, 0, 0, 1, 0, 1, 0, ...  \n",
       "2      [0, 0, 1, 1, 0, 0, 1, 1, 1, 1, 1, 0, 0, 0, 1, ...  \n",
       "3      [0, 1, 0, 0, 0, 0, 0, 0, 1, 0, 1, 0, 0, 0, 0, ...  \n",
       "4      [1, 1, 1, 1, 0, 1, 1, 0, 1, 1, 1, 0, 1, 1, 0, ...  \n",
       "...                                                  ...  \n",
       "85909  [0, 1, 0, 1, 0, 0, 0, 1, 1, 1, 1, 0, 1, 0, 0, ...  \n",
       "85910  [1, 0, 0, 1, 1, 0, 0, 1, 1, 1, 1, 1, 0, 1, 1, ...  \n",
       "85911  [1, 0, 1, 1, 1, 1, 1, 0, 1, 0, 1, 0, 0, 0, 0, ...  \n",
       "85912  [0, 1, 1, 1, 1, 0, 0, 0, 1, 0, 1, 0, 1, 1, 0, ...  \n",
       "85913  [1, 0, 1, 1, 0, 0, 1, 0, 1, 0, 1, 0, 1, 1, 0, ...  \n",
       "\n",
       "[85914 rows x 4 columns]"
      ]
     },
     "execution_count": 4,
     "metadata": {},
     "output_type": "execute_result"
    }
   ],
   "source": [
    "all_rxn = pd.concat([pos_rxn, neg_rxn])\n",
    "# suffle rows & reset index\n",
    "all_rxn = all_rxn.drop_duplicates(subset='rxn_smiles').sample(frac=1).reset_index(drop=True)\n",
    "rt_list = []\n",
    "for rxn in all_rxn['rxn_smiles']:\n",
    "    rt, _ = rxn2rtpt(rxn)\n",
    "    # sort reactants in a uniform order\n",
    "    rt_list.append('.'.join(sorted(rt.split('.'))))\n",
    "all_rxn['rt'] = rt_list\n",
    "# generate Morgan Fingerprints\n",
    "all_rxn['ECFP4'] = [list(AllChem.GetMorganFingerprintAsBitVect(Chem.MolFromSmiles(smi), 2, nBits=64)) for smi in tqdm(rt_list)]\n",
    "all_rxn"
   ]
  },
  {
   "cell_type": "markdown",
   "metadata": {},
   "source": [
    "### train, valid, test split"
   ]
  },
  {
   "cell_type": "code",
   "execution_count": 5,
   "metadata": {},
   "outputs": [],
   "source": [
    "X = np.array(all_rxn['ECFP4'].values.tolist())\n",
    "\n",
    "# the first PC grabs major variance\n",
    "pca = PCA(n_components=2)\n",
    "pca.fit(X.transpose())\n",
    "X_pca = pca.components_.transpose()"
   ]
  },
  {
   "cell_type": "code",
   "execution_count": 6,
   "metadata": {},
   "outputs": [
    {
     "name": "stderr",
     "output_type": "stream",
     "text": [
      "c:\\Users\\yifen\\anaconda3\\envs\\AIHacks\\lib\\site-packages\\seaborn\\distributions.py:1699: FutureWarning: The `bw` parameter is deprecated in favor of `bw_method` and `bw_adjust`. Using 0.5 for `bw_method`, but please see the docs for the new parameters and update your code.\n",
      "  warnings.warn(msg, FutureWarning)\n"
     ]
    },
    {
     "data": {
      "text/plain": [
       "<AxesSubplot:ylabel='Density'>"
      ]
     },
     "execution_count": 6,
     "metadata": {},
     "output_type": "execute_result"
    },
    {
     "data": {
      "image/png": "[encoded data removed]",
      "text/plain": [
       "<Figure size 432x288 with 1 Axes>"
      ]
     },
     "metadata": {
      "needs_background": "light"
     },
     "output_type": "display_data"
    }
   ],
   "source": [
    "sns.kdeplot(X_pca[:,0], bw=0.5)"
   ]
  },
  {
   "cell_type": "code",
   "execution_count": 7,
   "metadata": {},
   "outputs": [],
   "source": [
    "# train_size, valid_size and test_size should sum to 1.0!!!\n",
    "train_size = 0.7\n",
    "valid_size = 0.2\n",
    "test_size = 0.1"
   ]
  },
  {
   "cell_type": "code",
   "execution_count": 8,
   "metadata": {},
   "outputs": [],
   "source": [
    "# Two-tail double-side split\n",
    "# calculate percentile from split size\n",
    "train_prec = [\n",
    "    [(1-train_size)*0.25, 0.25+train_size*0.25], \n",
    "    [0.5+(1-train_size)*0.25, 0.75+train_size*0.25]\n",
    "]\n",
    "valid_prec = [\n",
    "    [test_size*0.25, (test_size+valid_size)*0.25], \n",
    "    [0.25+train_size*0.25, 0.25+(train_size+valid_size)*0.25], \n",
    "    [0.5+test_size*0.25, 0.5+(test_size+valid_size)*0.25], \n",
    "    [0.75+train_size*0.25, 0.75+(train_size+valid_size)*0.25]\n",
    "]\n",
    "test_prec = [\n",
    "    [0.0, test_size*0.25],\n",
    "    [0.25+(train_size+valid_size)*0.25, 0.5],\n",
    "    [0.5, 0.5+test_size*0.25],\n",
    "    [0.75+(train_size+valid_size)*0.25, 1.0]\n",
    "]"
   ]
  },
  {
   "cell_type": "code",
   "execution_count": 9,
   "metadata": {},
   "outputs": [],
   "source": [
    "train_split = [np.percentile(X_pca[:,0], np.array(itv)*100) for itv in train_prec]\n",
    "valid_split = [np.percentile(X_pca[:,0], np.array(itv)*100) for itv in valid_prec]\n",
    "test_split = [np.percentile(X_pca[:,0], np.array(itv)*100) for itv in test_prec]\n",
    "test_split[0][0] -= 1\n",
    "test_split[3][1] += 1"
   ]
  },
  {
   "cell_type": "code",
   "execution_count": 10,
   "metadata": {},
   "outputs": [],
   "source": [
    "def getIDFromSplit(X, split):\n",
    "    ids = []\n",
    "    for itv in split:\n",
    "        upBound = np.arange(len(X))[X <= itv[1]]\n",
    "        loBound = np.arange(len(X))[X > itv[0]]\n",
    "        ids += list(set(upBound).intersection(set(loBound)))\n",
    "    return ids\n",
    "\n",
    "train_id = getIDFromSplit(X_pca[:,0], train_split)\n",
    "valid_id = getIDFromSplit(X_pca[:,0], valid_split)\n",
    "test_id = getIDFromSplit(X_pca[:,0], test_split)"
   ]
  },
  {
   "cell_type": "code",
   "execution_count": 11,
   "metadata": {},
   "outputs": [
    {
     "data": {
      "text/plain": [
       "<matplotlib.legend.Legend at 0x25c0fb04280>"
      ]
     },
     "execution_count": 11,
     "metadata": {},
     "output_type": "execute_result"
    },
    {
     "data": {
      "image/png": "[encoded data removed]",
      "text/plain": [
       "<Figure size 432x288 with 1 Axes>"
      ]
     },
     "metadata": {
      "needs_background": "light"
     },
     "output_type": "display_data"
    }
   ],
   "source": [
    "plt.scatter(X_pca[train_id,0], X_pca[train_id,1], s=1, label='train set')\n",
    "plt.scatter(X_pca[valid_id,0], X_pca[valid_id,1], s=1, label='valid set')\n",
    "plt.scatter(X_pca[test_id,0], X_pca[test_id,1], s=1, label='test set')\n",
    "plt.legend()"
   ]
  },
  {
   "cell_type": "code",
   "execution_count": 12,
   "metadata": {},
   "outputs": [
    {
     "data": {
      "text/plain": [
       "85914"
      ]
     },
     "execution_count": 12,
     "metadata": {},
     "output_type": "execute_result"
    }
   ],
   "source": [
    "len(train_id + test_id + valid_id)"
   ]
  }
 ],
 "metadata": {
  "interpreter": {
   "hash": "c45e1f4cff16ded6653d5122b243e74746b1533e5e96f730958c4db3332ffa40"
  },
  "kernelspec": {
   "display_name": "Python 3.10.0 ('AIHacks')",
   "language": "python",
   "name": "python3"
  },
  "language_info": {
   "codemirror_mode": {
    "name": "ipython",
    "version": 3
   },
   "file_extension": ".py",
   "mimetype": "text/x-python",
   "name": "python",
   "nbconvert_exporter": "python",
   "pygments_lexer": "ipython3",
   "version": "3.10.0"
  },
  "orig_nbformat": 4
 },
 "nbformat": 4,
 "nbformat_minor": 2
}
