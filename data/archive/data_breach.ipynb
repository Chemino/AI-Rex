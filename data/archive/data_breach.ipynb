{
 "cells": [
  {
   "cell_type": "code",
   "execution_count": 3,
   "metadata": {},
   "outputs": [
    {
     "name": "stdout",
     "output_type": "stream",
     "text": [
      "The autoreload extension is already loaded. To reload it, use:\n",
      "  %reload_ext autoreload\n"
     ]
    }
   ],
   "source": [
    "%load_ext autoreload\n",
    "%autoreload 2\n",
    "\n",
    "import numpy as np\n",
    "import pandas as pd\n",
    "from rdkit import Chem\n",
    "from rdkit.Chem import AllChem\n",
    "from tqdm import tqdm"
   ]
  },
  {
   "cell_type": "code",
   "execution_count": 8,
   "metadata": {},
   "outputs": [
    {
     "data": {
      "text/html": [
       "<div>\n",
       "<style scoped>\n",
       "    .dataframe tbody tr th:only-of-type {\n",
       "        vertical-align: middle;\n",
       "    }\n",
       "\n",
       "    .dataframe tbody tr th {\n",
       "        vertical-align: top;\n",
       "    }\n",
       "\n",
       "    .dataframe thead th {\n",
       "        text-align: right;\n",
       "    }\n",
       "</style>\n",
       "<table border=\"1\" class=\"dataframe\">\n",
       "  <thead>\n",
       "    <tr style=\"text-align: right;\">\n",
       "      <th></th>\n",
       "      <th>rxn_smiles</th>\n",
       "      <th>label</th>\n",
       "      <th>true_rxn_smiles</th>\n",
       "      <th>forward_template</th>\n",
       "    </tr>\n",
       "  </thead>\n",
       "  <tbody>\n",
       "    <tr>\n",
       "      <th>377</th>\n",
       "      <td>COc1ccc(C(=O)c2c(-c3ccc(OC)cc3)sc3cc(OC)ccc23)...</td>\n",
       "      <td>0</td>\n",
       "      <td>COc1ccc(C(=O)c2c(-c3ccc(OC)cc3)sc3cc(OC)ccc23)...</td>\n",
       "      <td>(C-[O;H0;D2;+0:1]-[c:2])&gt;&gt;([OH;D1;+0:1]-[c:2])</td>\n",
       "    </tr>\n",
       "    <tr>\n",
       "      <th>378</th>\n",
       "      <td>COc1ccc(C(=O)c2c(-c3ccc(OC)cc3)sc3cc(OC)ccc23)...</td>\n",
       "      <td>0</td>\n",
       "      <td>COc1ccc(C(=O)c2c(-c3ccc(OC)cc3)sc3cc(OC)ccc23)...</td>\n",
       "      <td>(C-[O;H0;D2;+0:1]-[c:2])&gt;&gt;([OH;D1;+0:1]-[c:2])</td>\n",
       "    </tr>\n",
       "    <tr>\n",
       "      <th>568</th>\n",
       "      <td>C1COCCN1.CC(C)CC(Oc1ccc(-c2ccc(C(C)C)cc2)c(C=O...</td>\n",
       "      <td>0</td>\n",
       "      <td>C1COCCN1.CC(C)CC(Oc1ccc(-c2ccc(C(C)C)cc2)c(C=O...</td>\n",
       "      <td>(O=[CH;D2;+0:1]-[c:2].[C:3]-[NH;D2;+0:4]-[C:5]...</td>\n",
       "    </tr>\n",
       "    <tr>\n",
       "      <th>1361</th>\n",
       "      <td>CC(=O)Cl.c1ccc2c(c1)oc1ccccc12&gt;&gt;CC(=O)c1cccc2o...</td>\n",
       "      <td>0</td>\n",
       "      <td>CC(=O)Cl.c1ccc2c(c1)oc1ccccc12&gt;&gt;CC(=O)c1ccc2c(...</td>\n",
       "      <td>(Cl-[C;H0;D3;+0:1](-[C;D1;H3:2])=[O;D1;H0:3].[...</td>\n",
       "    </tr>\n",
       "    <tr>\n",
       "      <th>1795</th>\n",
       "      <td>CC(=O)Cl.c1ccc2c(c1)oc1ccccc12&gt;&gt;CC(=O)c1cccc2o...</td>\n",
       "      <td>0</td>\n",
       "      <td>CC(=O)Cl.c1ccc2c(c1)oc1ccccc12&gt;&gt;CC(=O)c1ccc2oc...</td>\n",
       "      <td>(Cl-[C;H0;D3;+0:1](-[C;D1;H3:2])=[O;D1;H0:3].[...</td>\n",
       "    </tr>\n",
       "    <tr>\n",
       "      <th>1896</th>\n",
       "      <td>C1COCCN1.CC(C)CC(Oc1ccc(-c2ccc(C(C)C)cc2)c(C=O...</td>\n",
       "      <td>0</td>\n",
       "      <td>C1COCCN1.CC(C)CC(Oc1ccc(-c2ccc(C(C)C)cc2)c(C=O...</td>\n",
       "      <td>(O=[CH;D2;+0:1]-[c:2].[C:3]-[NH;D2;+0:4]-[C:5]...</td>\n",
       "    </tr>\n",
       "    <tr>\n",
       "      <th>1965</th>\n",
       "      <td>COc1ccc(C(=O)c2c(-c3ccc(OC)cc3)sc3cc(OC)ccc23)...</td>\n",
       "      <td>0</td>\n",
       "      <td>COc1ccc(C(=O)c2c(-c3ccc(OC)cc3)sc3cc(OC)ccc23)...</td>\n",
       "      <td>(C-[O;H0;D2;+0:1]-[c:2])&gt;&gt;([OH;D1;+0:1]-[c:2])</td>\n",
       "    </tr>\n",
       "    <tr>\n",
       "      <th>1966</th>\n",
       "      <td>COc1ccc(C(=O)c2c(-c3ccc(OC)cc3)sc3cc(OC)ccc23)...</td>\n",
       "      <td>0</td>\n",
       "      <td>COc1ccc(C(=O)c2c(-c3ccc(OC)cc3)sc3cc(OC)ccc23)...</td>\n",
       "      <td>(C-[O;H0;D2;+0:1]-[c:2])&gt;&gt;([OH;D1;+0:1]-[c:2])</td>\n",
       "    </tr>\n",
       "  </tbody>\n",
       "</table>\n",
       "</div>"
      ],
      "text/plain": [
       "                                             rxn_smiles  label  \\\n",
       "377   COc1ccc(C(=O)c2c(-c3ccc(OC)cc3)sc3cc(OC)ccc23)...      0   \n",
       "378   COc1ccc(C(=O)c2c(-c3ccc(OC)cc3)sc3cc(OC)ccc23)...      0   \n",
       "568   C1COCCN1.CC(C)CC(Oc1ccc(-c2ccc(C(C)C)cc2)c(C=O...      0   \n",
       "1361  CC(=O)Cl.c1ccc2c(c1)oc1ccccc12>>CC(=O)c1cccc2o...      0   \n",
       "1795  CC(=O)Cl.c1ccc2c(c1)oc1ccccc12>>CC(=O)c1cccc2o...      0   \n",
       "1896  C1COCCN1.CC(C)CC(Oc1ccc(-c2ccc(C(C)C)cc2)c(C=O...      0   \n",
       "1965  COc1ccc(C(=O)c2c(-c3ccc(OC)cc3)sc3cc(OC)ccc23)...      0   \n",
       "1966  COc1ccc(C(=O)c2c(-c3ccc(OC)cc3)sc3cc(OC)ccc23)...      0   \n",
       "\n",
       "                                        true_rxn_smiles  \\\n",
       "377   COc1ccc(C(=O)c2c(-c3ccc(OC)cc3)sc3cc(OC)ccc23)...   \n",
       "378   COc1ccc(C(=O)c2c(-c3ccc(OC)cc3)sc3cc(OC)ccc23)...   \n",
       "568   C1COCCN1.CC(C)CC(Oc1ccc(-c2ccc(C(C)C)cc2)c(C=O...   \n",
       "1361  CC(=O)Cl.c1ccc2c(c1)oc1ccccc12>>CC(=O)c1ccc2c(...   \n",
       "1795  CC(=O)Cl.c1ccc2c(c1)oc1ccccc12>>CC(=O)c1ccc2oc...   \n",
       "1896  C1COCCN1.CC(C)CC(Oc1ccc(-c2ccc(C(C)C)cc2)c(C=O...   \n",
       "1965  COc1ccc(C(=O)c2c(-c3ccc(OC)cc3)sc3cc(OC)ccc23)...   \n",
       "1966  COc1ccc(C(=O)c2c(-c3ccc(OC)cc3)sc3cc(OC)ccc23)...   \n",
       "\n",
       "                                       forward_template  \n",
       "377      (C-[O;H0;D2;+0:1]-[c:2])>>([OH;D1;+0:1]-[c:2])  \n",
       "378      (C-[O;H0;D2;+0:1]-[c:2])>>([OH;D1;+0:1]-[c:2])  \n",
       "568   (O=[CH;D2;+0:1]-[c:2].[C:3]-[NH;D2;+0:4]-[C:5]...  \n",
       "1361  (Cl-[C;H0;D3;+0:1](-[C;D1;H3:2])=[O;D1;H0:3].[...  \n",
       "1795  (Cl-[C;H0;D3;+0:1](-[C;D1;H3:2])=[O;D1;H0:3].[...  \n",
       "1896  (O=[CH;D2;+0:1]-[c:2].[C:3]-[NH;D2;+0:4]-[C:5]...  \n",
       "1965     (C-[O;H0;D2;+0:1]-[c:2])>>([OH;D1;+0:1]-[c:2])  \n",
       "1966     (C-[O;H0;D2;+0:1]-[c:2])>>([OH;D1;+0:1]-[c:2])  "
      ]
     },
     "execution_count": 8,
     "metadata": {},
     "output_type": "execute_result"
    }
   ],
   "source": [
    "df = pd.read_csv('negative_strict.csv')\n",
    "df[df.duplicated(subset='rxn_smiles', keep=False)]"
   ]
  },
  {
   "cell_type": "code",
   "execution_count": 9,
   "metadata": {},
   "outputs": [],
   "source": [
    "df.drop_duplicates(subset='rxn_smiles').to_csv('negative_strict.csv')"
   ]
  }
 ],
 "metadata": {
  "interpreter": {
   "hash": "c45e1f4cff16ded6653d5122b243e74746b1533e5e96f730958c4db3332ffa40"
  },
  "kernelspec": {
   "display_name": "Python 3.10.0 ('AIHacks')",
   "language": "python",
   "name": "python3"
  },
  "language_info": {
   "codemirror_mode": {
    "name": "ipython",
    "version": 3
   },
   "file_extension": ".py",
   "mimetype": "text/x-python",
   "name": "python",
   "nbconvert_exporter": "python",
   "pygments_lexer": "ipython3",
   "version": "3.10.0"
  },
  "orig_nbformat": 4
 },
 "nbformat": 4,
 "nbformat_minor": 2
}
