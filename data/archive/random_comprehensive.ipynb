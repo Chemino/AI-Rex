{
 "cells": [
  {
   "cell_type": "code",
   "execution_count": 1,
   "metadata": {},
   "outputs": [],
   "source": [
    "%load_ext autoreload\n",
    "%autoreload 2\n",
    "\n",
    "import pandas as pd\n",
    "import rdchiral.main as rdc\n",
    "from tqdm import tqdm\n",
    "\n",
    "from falsify_data import removemap\n",
    "from utils import *"
   ]
  },
  {
   "cell_type": "code",
   "execution_count": 2,
   "metadata": {},
   "outputs": [
    {
     "name": "stdout",
     "output_type": "stream",
     "text": [
      "13761\n"
     ]
    }
   ],
   "source": [
    "df = pd.read_csv('cleaned_uspto50k.csv')\n",
    "rxn_smiles = list(df['rxn_smiles'])\n",
    "retro_templates = list(df['retro_template'].drop_duplicates())\n",
    "print(len(retro_templates))"
   ]
  },
  {
   "cell_type": "code",
   "execution_count": 6,
   "metadata": {},
   "outputs": [
    {
     "name": "stderr",
     "output_type": "stream",
     "text": [
      "100%|██████████| 2/2 [01:17<00:00, 38.67s/it]\n"
     ]
    }
   ],
   "source": [
    "false_rxn_dict = {\n",
    "    'rxn_smiles': [],\n",
    "    'label': [],\n",
    "    'true_rxn_smiles': [],\n",
    "    'forward_template': []\n",
    "}\n",
    "\n",
    "for i in tqdm(range(len(df[:2]))):\n",
    "# for i in [0]:\n",
    "    rxn = rxn_smiles[i]\n",
    "    rxn = removemap(rxn)\n",
    "    rt, pt = rxn2rtpt(rxn)\n",
    "\n",
    "    possible_pts = []\n",
    "    for j in range(len(retro_templates)):\n",
    "        # skip if the selected template is the one associated with the reaction\n",
    "        # because this situation has already been taken into consideration\n",
    "        # in the STRICT template mapping method\n",
    "        if df.loc[i, 'retro_template'] == retro_templates[j]:\n",
    "            continue\n",
    "        rule = reverse_temp(retro_templates[j])\n",
    "        possible_pts += rdc.rdchiralRunText(rule, rt)\n",
    "\n",
    "    # remove duplicates from possible_pts (if any)\n",
    "    possible_pts = list(set(possible_pts))\n",
    "\n",
    "    # look for false reactions\n",
    "    for possible_pt in possible_pts:\n",
    "        # for possible product that is not the recorded product\n",
    "        # we take it as a negative product\n",
    "        # and the corresponding reaction as a negaitve sample\n",
    "        if possible_pt != pt:\n",
    "            false_rxn = f'{rt}>>{possible_pt}'\n",
    "\n",
    "            # dump essential info into dict\n",
    "            false_rxn_dict['rxn_smiles'].append(false_rxn)\n",
    "            false_rxn_dict['label'].append(0)\n",
    "            false_rxn_dict['true_rxn_smiles'].append(rxn)\n",
    "            false_rxn_dict['forward_template'].append(rule)"
   ]
  },
  {
   "cell_type": "code",
   "execution_count": 7,
   "metadata": {},
   "outputs": [
    {
     "name": "stdout",
     "output_type": "stream",
     "text": [
      "32 false reactions were succesfully generated this time,\n",
      "25 out of which are new.\n",
      "In total, 105073 false reactions were successfully generated using random template mapping.\n"
     ]
    }
   ],
   "source": [
    "false_rxn_df = pd.DataFrame(false_rxn_dict)\n",
    "print(f'{len(false_rxn_df)} false reactions were succesfully generated this time,')\n",
    "\n",
    "negative_random = pd.read_csv('negative_random.csv')\n",
    "len_negative_random = len(negative_random)\n",
    "\n",
    "negative_random = pd.concat([negative_random, false_rxn_df])\n",
    "negative_random.drop_duplicates(subset='rxn_smiles', inplace=True)\n",
    "negative_random.to_csv('negative_random.csv', index=False)\n",
    "print(f'{len(negative_random) - len_negative_random} out of which are new.')\n",
    "print(f'In total, {len(negative_random)} false reactions were successfully generated using random template mapping.')"
   ]
  }
 ],
 "metadata": {
  "interpreter": {
   "hash": "340bcad0072f115b1765b142a3d880742cff9ef9e50a441d07591b989afd1795"
  },
  "kernelspec": {
   "display_name": "Python 3.10.2 ('AIHacks')",
   "language": "python",
   "name": "python3"
  },
  "language_info": {
   "codemirror_mode": {
    "name": "ipython",
    "version": 3
   },
   "file_extension": ".py",
   "mimetype": "text/x-python",
   "name": "python",
   "nbconvert_exporter": "python",
   "pygments_lexer": "ipython3",
   "version": "3.10.2"
  },
  "orig_nbformat": 4
 },
 "nbformat": 4,
 "nbformat_minor": 2
}
