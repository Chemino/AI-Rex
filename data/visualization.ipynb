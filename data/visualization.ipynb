{
 "cells": [
  {
   "cell_type": "code",
   "execution_count": 2,
   "metadata": {},
   "outputs": [],
   "source": [
    "%load_ext autoreload\n",
    "%autoreload 2\n",
    "\n",
    "import os\n",
    "import numpy as np\n",
    "import pandas as pd\n",
    "import rdchiral.main as rdc\n",
    "from rdkit import Chem\n",
    "from rdkit.Chem import Draw, AllChem\n",
    "from tqdm import tqdm\n",
    "import matplotlib.pyplot as plt\n",
    "\n",
    "from falsify_data import removemap\n",
    "from utils import *"
   ]
  },
  {
   "cell_type": "code",
   "execution_count": 3,
   "metadata": {},
   "outputs": [],
   "source": [
    "def drawRxn(rxn, size=(800, 300), fileName='reaction.png'):\n",
    "    rxn = AllChem.ReactionFromSmarts(rxn)\n",
    "    d2d = Draw.MolDraw2DCairo(*size)\n",
    "    d2d.DrawReaction(rxn)\n",
    "    d2d.GetDrawingText()\n",
    "    png = d2d.GetDrawingText()\n",
    "    open(os.path.join('figures', fileName), 'wb+').write(png)"
   ]
  },
  {
   "cell_type": "markdown",
   "metadata": {},
   "source": [
    "# METHOD 1 - STRICT"
   ]
  },
  {
   "cell_type": "code",
   "execution_count": 2,
   "metadata": {},
   "outputs": [
    {
     "data": {
      "text/html": [
       "<div>\n",
       "<style scoped>\n",
       "    .dataframe tbody tr th:only-of-type {\n",
       "        vertical-align: middle;\n",
       "    }\n",
       "\n",
       "    .dataframe tbody tr th {\n",
       "        vertical-align: top;\n",
       "    }\n",
       "\n",
       "    .dataframe thead th {\n",
       "        text-align: right;\n",
       "    }\n",
       "</style>\n",
       "<table border=\"1\" class=\"dataframe\">\n",
       "  <thead>\n",
       "    <tr style=\"text-align: right;\">\n",
       "      <th></th>\n",
       "      <th>rxn_smiles</th>\n",
       "      <th>label</th>\n",
       "      <th>true_rxn_smiles</th>\n",
       "      <th>forward_template</th>\n",
       "    </tr>\n",
       "  </thead>\n",
       "  <tbody>\n",
       "    <tr>\n",
       "      <th>0</th>\n",
       "      <td>BrCc1ccccc1.Oc1ccc(O)c(Br)c1&gt;&gt;Oc1ccc(OCc2ccccc...</td>\n",
       "      <td>0</td>\n",
       "      <td>BrCc1ccccc1.Oc1ccc(O)c(Br)c1&gt;&gt;Oc1ccc(OCc2ccccc...</td>\n",
       "      <td>(Br-[CH2;D2;+0:1]-[c:2].[OH;D1;+0:3]-[c:4])&gt;&gt;(...</td>\n",
       "    </tr>\n",
       "    <tr>\n",
       "      <th>1</th>\n",
       "      <td>CC(C)(C)OC(=O)NCC1CCNCC1.O=S(=O)(Cl)c1cccc2cnc...</td>\n",
       "      <td>0</td>\n",
       "      <td>CC(C)(C)OC(=O)NCC1CCNCC1.O=S(=O)(Cl)c1cccc2cnc...</td>\n",
       "      <td>(Cl-[S;H0;D4;+0:1](=[O;D1;H0:2])(=[O;D1;H0:3])...</td>\n",
       "    </tr>\n",
       "    <tr>\n",
       "      <th>2</th>\n",
       "      <td>CCSc1nc(Cl)cc(C)c1C(=O)NCc1cccc(F)c1.OC[C@H]1C...</td>\n",
       "      <td>0</td>\n",
       "      <td>CCSc1nc(Cl)cc(C)c1C(=O)NCc1cccc(F)c1.OC[C@H]1C...</td>\n",
       "      <td>(Cl-[c;H0;D3;+0:1](:[#7;a:2]):[c:3].[C:4]-[NH;...</td>\n",
       "    </tr>\n",
       "    <tr>\n",
       "      <th>3</th>\n",
       "      <td>NCC1(O)CCCC1.O=[N+]([O-])c1cc(Br)ccc1Br&gt;&gt;O=[N+...</td>\n",
       "      <td>0</td>\n",
       "      <td>NCC1(O)CCCC1.O=[N+]([O-])c1cc(Br)ccc1Br&gt;&gt;O=[N+...</td>\n",
       "      <td>(Br-[c;H0;D3;+0:1](:[c:2]):[c:3].[C:4]-[NH2;D1...</td>\n",
       "    </tr>\n",
       "    <tr>\n",
       "      <th>4</th>\n",
       "      <td>CCNCC1CCNC1.CCn1cc(C(=O)O)c(=O)c2cc(F)c(Cl)nc2...</td>\n",
       "      <td>0</td>\n",
       "      <td>CCNCC1CCNC1.CCn1cc(C(=O)O)c(=O)c2cc(F)c(Cl)nc2...</td>\n",
       "      <td>(Cl-[c;H0;D3;+0:1](:[c:2]):[#7;a:3]:[c:4]:[#7;...</td>\n",
       "    </tr>\n",
       "    <tr>\n",
       "      <th>...</th>\n",
       "      <td>...</td>\n",
       "      <td>...</td>\n",
       "      <td>...</td>\n",
       "      <td>...</td>\n",
       "    </tr>\n",
       "    <tr>\n",
       "      <th>2114</th>\n",
       "      <td>CS(=O)(=O)c1ccc(C=O)cc1.Nc1ccc(-c2c(N)nc(N)nc2...</td>\n",
       "      <td>0</td>\n",
       "      <td>CS(=O)(=O)c1ccc(C=O)cc1.Nc1ccc(-c2c(N)nc(N)nc2...</td>\n",
       "      <td>(O=[CH;D2;+0:1]-[c:2].[NH2;D1;+0:3]-[c:4])&gt;&gt;([...</td>\n",
       "    </tr>\n",
       "    <tr>\n",
       "      <th>2115</th>\n",
       "      <td>O=C(O)Cc1cccc2ccccc12.OCCOCCO&gt;&gt;O=C(Cc1cccc2ccc...</td>\n",
       "      <td>0</td>\n",
       "      <td>O=C(O)Cc1cccc2ccccc12.OCCOCCO&gt;&gt;O=C(Cc1cccc2ccc...</td>\n",
       "      <td>(O-[CH2;D2;+0:1]-[C:2].[O;D1;H0:3]=[C:4]-[OH;D...</td>\n",
       "    </tr>\n",
       "    <tr>\n",
       "      <th>2116</th>\n",
       "      <td>COc1cc(Cl)c(-c2ccc(Cl)cc2)cc1C(=O)O.N#CC1CNCCN...</td>\n",
       "      <td>0</td>\n",
       "      <td>COc1cc(Cl)c(-c2ccc(Cl)cc2)cc1C(=O)O.N#CC1CNCCN...</td>\n",
       "      <td>(O-[C;H0;D3;+0:1](=[O;D1;H0:2])-[c:3].[C:4]-[N...</td>\n",
       "    </tr>\n",
       "    <tr>\n",
       "      <th>2117</th>\n",
       "      <td>C=CC[C@@H](CC(=O)OC(C)(C)C)C(=O)O.OC[C@@H]1CCC...</td>\n",
       "      <td>0</td>\n",
       "      <td>C=CC[C@@H](CC(=O)OC(C)(C)C)C(=O)O.OC[C@@H]1CCC...</td>\n",
       "      <td>(O-[C;H0;D3;+0:1](-[C:2])=[O;D1;H0:3].[C:4]-[N...</td>\n",
       "    </tr>\n",
       "    <tr>\n",
       "      <th>2118</th>\n",
       "      <td>Cc1cc(Cl)nnc1Cl.NN&gt;&gt;Cc1cc(NN)nnc1Cl</td>\n",
       "      <td>0</td>\n",
       "      <td>Cc1cc(Cl)nnc1Cl.NN&gt;&gt;Cc1cc(Cl)nnc1NN</td>\n",
       "      <td>(Cl-[c;H0;D3;+0:1](:[c:2]):[#7;a:3]:[#7;a:4].[...</td>\n",
       "    </tr>\n",
       "  </tbody>\n",
       "</table>\n",
       "<p>2119 rows × 4 columns</p>\n",
       "</div>"
      ],
      "text/plain": [
       "                                             rxn_smiles  label  \\\n",
       "0     BrCc1ccccc1.Oc1ccc(O)c(Br)c1>>Oc1ccc(OCc2ccccc...      0   \n",
       "1     CC(C)(C)OC(=O)NCC1CCNCC1.O=S(=O)(Cl)c1cccc2cnc...      0   \n",
       "2     CCSc1nc(Cl)cc(C)c1C(=O)NCc1cccc(F)c1.OC[C@H]1C...      0   \n",
       "3     NCC1(O)CCCC1.O=[N+]([O-])c1cc(Br)ccc1Br>>O=[N+...      0   \n",
       "4     CCNCC1CCNC1.CCn1cc(C(=O)O)c(=O)c2cc(F)c(Cl)nc2...      0   \n",
       "...                                                 ...    ...   \n",
       "2114  CS(=O)(=O)c1ccc(C=O)cc1.Nc1ccc(-c2c(N)nc(N)nc2...      0   \n",
       "2115  O=C(O)Cc1cccc2ccccc12.OCCOCCO>>O=C(Cc1cccc2ccc...      0   \n",
       "2116  COc1cc(Cl)c(-c2ccc(Cl)cc2)cc1C(=O)O.N#CC1CNCCN...      0   \n",
       "2117  C=CC[C@@H](CC(=O)OC(C)(C)C)C(=O)O.OC[C@@H]1CCC...      0   \n",
       "2118                Cc1cc(Cl)nnc1Cl.NN>>Cc1cc(NN)nnc1Cl      0   \n",
       "\n",
       "                                        true_rxn_smiles  \\\n",
       "0     BrCc1ccccc1.Oc1ccc(O)c(Br)c1>>Oc1ccc(OCc2ccccc...   \n",
       "1     CC(C)(C)OC(=O)NCC1CCNCC1.O=S(=O)(Cl)c1cccc2cnc...   \n",
       "2     CCSc1nc(Cl)cc(C)c1C(=O)NCc1cccc(F)c1.OC[C@H]1C...   \n",
       "3     NCC1(O)CCCC1.O=[N+]([O-])c1cc(Br)ccc1Br>>O=[N+...   \n",
       "4     CCNCC1CCNC1.CCn1cc(C(=O)O)c(=O)c2cc(F)c(Cl)nc2...   \n",
       "...                                                 ...   \n",
       "2114  CS(=O)(=O)c1ccc(C=O)cc1.Nc1ccc(-c2c(N)nc(N)nc2...   \n",
       "2115  O=C(O)Cc1cccc2ccccc12.OCCOCCO>>O=C(Cc1cccc2ccc...   \n",
       "2116  COc1cc(Cl)c(-c2ccc(Cl)cc2)cc1C(=O)O.N#CC1CNCCN...   \n",
       "2117  C=CC[C@@H](CC(=O)OC(C)(C)C)C(=O)O.OC[C@@H]1CCC...   \n",
       "2118                Cc1cc(Cl)nnc1Cl.NN>>Cc1cc(Cl)nnc1NN   \n",
       "\n",
       "                                       forward_template  \n",
       "0     (Br-[CH2;D2;+0:1]-[c:2].[OH;D1;+0:3]-[c:4])>>(...  \n",
       "1     (Cl-[S;H0;D4;+0:1](=[O;D1;H0:2])(=[O;D1;H0:3])...  \n",
       "2     (Cl-[c;H0;D3;+0:1](:[#7;a:2]):[c:3].[C:4]-[NH;...  \n",
       "3     (Br-[c;H0;D3;+0:1](:[c:2]):[c:3].[C:4]-[NH2;D1...  \n",
       "4     (Cl-[c;H0;D3;+0:1](:[c:2]):[#7;a:3]:[c:4]:[#7;...  \n",
       "...                                                 ...  \n",
       "2114  (O=[CH;D2;+0:1]-[c:2].[NH2;D1;+0:3]-[c:4])>>([...  \n",
       "2115  (O-[CH2;D2;+0:1]-[C:2].[O;D1;H0:3]=[C:4]-[OH;D...  \n",
       "2116  (O-[C;H0;D3;+0:1](=[O;D1;H0:2])-[c:3].[C:4]-[N...  \n",
       "2117  (O-[C;H0;D3;+0:1](-[C:2])=[O;D1;H0:3].[C:4]-[N...  \n",
       "2118  (Cl-[c;H0;D3;+0:1](:[c:2]):[#7;a:3]:[#7;a:4].[...  \n",
       "\n",
       "[2119 rows x 4 columns]"
      ]
     },
     "execution_count": 2,
     "metadata": {},
     "output_type": "execute_result"
    }
   ],
   "source": [
    "neg_1 = pd.read_csv('negative_strict.csv')\n",
    "neg_1"
   ]
  },
  {
   "cell_type": "code",
   "execution_count": 120,
   "metadata": {},
   "outputs": [
    {
     "data": {
      "image/png": "[encoded data removed]",
      "text/plain": [
       "<Figure size 432x288 with 1 Axes>"
      ]
     },
     "metadata": {
      "needs_background": "light"
     },
     "output_type": "display_data"
    }
   ],
   "source": [
    "import matplotlib\n",
    "matplotlib.rcParams.update({'font.size': 15})\n",
    "plt.hist(neg_1.groupby('true_rxn_smiles').size(), bins=np.arange(12)-0.5, rwidth=0.8)\n",
    "plt.xlim(0, 11)\n",
    "plt.xticks(np.arange(1, 11))\n",
    "plt.xlabel('# possible products by strict template matching')\n",
    "plt.ylabel('# reactions')\n",
    "plt.yscale('log')\n",
    "plt.tight_layout()\n",
    "plt.savefig('figures/strict_hist.png', dpi=300)"
   ]
  },
  {
   "cell_type": "code",
   "execution_count": 25,
   "metadata": {},
   "outputs": [
    {
     "data": {
      "text/html": [
       "<div>\n",
       "<style scoped>\n",
       "    .dataframe tbody tr th:only-of-type {\n",
       "        vertical-align: middle;\n",
       "    }\n",
       "\n",
       "    .dataframe tbody tr th {\n",
       "        vertical-align: top;\n",
       "    }\n",
       "\n",
       "    .dataframe thead th {\n",
       "        text-align: right;\n",
       "    }\n",
       "</style>\n",
       "<table border=\"1\" class=\"dataframe\">\n",
       "  <thead>\n",
       "    <tr style=\"text-align: right;\">\n",
       "      <th></th>\n",
       "      <th>rxn_smiles</th>\n",
       "      <th>label</th>\n",
       "      <th>true_rxn_smiles</th>\n",
       "      <th>forward_template</th>\n",
       "    </tr>\n",
       "  </thead>\n",
       "  <tbody>\n",
       "    <tr>\n",
       "      <th>0</th>\n",
       "      <td>BrCCOc1ccccc1.COc1ccc(C(=O)Cl)cc1&gt;&gt;COc1ccc(C(=...</td>\n",
       "      <td>0</td>\n",
       "      <td>BrCCOc1ccccc1.COc1ccc(C(=O)Cl)cc1&gt;&gt;COc1ccc(C(=...</td>\n",
       "      <td>(Cl-[C;H0;D3;+0:1](=[O;D1;H0:2])-[c:3].[c:4]:[...</td>\n",
       "    </tr>\n",
       "    <tr>\n",
       "      <th>1</th>\n",
       "      <td>BrCCOc1ccccc1.COc1ccc(C(=O)Cl)cc1&gt;&gt;COc1ccc(C(=...</td>\n",
       "      <td>0</td>\n",
       "      <td>BrCCOc1ccccc1.COc1ccc(C(=O)Cl)cc1&gt;&gt;COc1ccc(C(=...</td>\n",
       "      <td>(Cl-[C;H0;D3;+0:1](=[O;D1;H0:2])-[c:3].[c:4]:[...</td>\n",
       "    </tr>\n",
       "    <tr>\n",
       "      <th>2</th>\n",
       "      <td>BrCCOc1ccccc1.COc1ccc(C(=O)Cl)cc1&gt;&gt;COc1ccc2cc1...</td>\n",
       "      <td>0</td>\n",
       "      <td>BrCCOc1ccccc1.COc1ccc(C(=O)Cl)cc1&gt;&gt;COc1ccc(C(=...</td>\n",
       "      <td>(Cl-[C;H0;D3;+0:1](=[O;D1;H0:2])-[c:3].[c:4]:[...</td>\n",
       "    </tr>\n",
       "  </tbody>\n",
       "</table>\n",
       "</div>"
      ],
      "text/plain": [
       "                                          rxn_smiles  label  \\\n",
       "0  BrCCOc1ccccc1.COc1ccc(C(=O)Cl)cc1>>COc1ccc(C(=...      0   \n",
       "1  BrCCOc1ccccc1.COc1ccc(C(=O)Cl)cc1>>COc1ccc(C(=...      0   \n",
       "2  BrCCOc1ccccc1.COc1ccc(C(=O)Cl)cc1>>COc1ccc2cc1...      0   \n",
       "\n",
       "                                     true_rxn_smiles  \\\n",
       "0  BrCCOc1ccccc1.COc1ccc(C(=O)Cl)cc1>>COc1ccc(C(=...   \n",
       "1  BrCCOc1ccccc1.COc1ccc(C(=O)Cl)cc1>>COc1ccc(C(=...   \n",
       "2  BrCCOc1ccccc1.COc1ccc(C(=O)Cl)cc1>>COc1ccc(C(=...   \n",
       "\n",
       "                                    forward_template  \n",
       "0  (Cl-[C;H0;D3;+0:1](=[O;D1;H0:2])-[c:3].[c:4]:[...  \n",
       "1  (Cl-[C;H0;D3;+0:1](=[O;D1;H0:2])-[c:3].[c:4]:[...  \n",
       "2  (Cl-[C;H0;D3;+0:1](=[O;D1;H0:2])-[c:3].[c:4]:[...  "
      ]
     },
     "execution_count": 25,
     "metadata": {},
     "output_type": "execute_result"
    }
   ],
   "source": [
    "df = neg_1[neg_1['true_rxn_smiles'] == 'BrCCOc1ccccc1.COc1ccc(C(=O)Cl)cc1>>COc1ccc(C(=O)c2ccc(OCCBr)cc2)cc1'].reset_index(drop=True)\n",
    "df"
   ]
  },
  {
   "cell_type": "code",
   "execution_count": 58,
   "metadata": {},
   "outputs": [
    {
     "data": {
      "image/png": "[encoded data removed]",
      "text/plain": [
       "<rdkit.Chem.rdChemReactions.ChemicalReaction at 0x1b7e8a3f4c0>"
      ]
     },
     "execution_count": 58,
     "metadata": {},
     "output_type": "execute_result"
    }
   ],
   "source": [
    "drawRxn(df.loc[0, 'forward_template'], fileName='strict_template.png')\n",
    "AllChem.ReactionFromSmarts(df.loc[0, 'forward_template'])"
   ]
  },
  {
   "cell_type": "code",
   "execution_count": 98,
   "metadata": {},
   "outputs": [
    {
     "name": "stdout",
     "output_type": "stream",
     "text": [
      "((4, 5, 6), (4, 9, 8), (5, 4, 9), (5, 6, 7), (6, 7, 8), (7, 8, 9))\n"
     ]
    },
    {
     "data": {
      "image/png": "[encoded data removed]",
      "text/plain": [
       "<rdkit.Chem.rdchem.Mol at 0x1b7e8a3f700>"
      ]
     },
     "execution_count": 98,
     "metadata": {},
     "output_type": "execute_result"
    }
   ],
   "source": [
    "m = Chem.MolFromSmiles(rxn2rtpt(df.loc[0, 'rxn_smiles'])[0].split('.')[0])\n",
    "sub = Chem.MolFromSmarts('c:c:c')\n",
    "print(m.GetSubstructMatches(sub))\n",
    "m"
   ]
  },
  {
   "cell_type": "code",
   "execution_count": 102,
   "metadata": {},
   "outputs": [
    {
     "name": "stdout",
     "output_type": "stream",
     "text": [
      "((8, 6, 7, 5),)\n"
     ]
    },
    {
     "data": {
      "image/png": "[encoded data removed]",
      "text/plain": [
       "<rdkit.Chem.rdchem.Mol at 0x1b7e8c3f460>"
      ]
     },
     "execution_count": 102,
     "metadata": {},
     "output_type": "execute_result"
    }
   ],
   "source": [
    "m = Chem.MolFromSmiles(rxn2rtpt(df.loc[0, 'rxn_smiles'])[0].split('.')[1])\n",
    "sub = Chem.MolFromSmarts('ClC(=O)c')\n",
    "print(m.GetSubstructMatches(sub))\n",
    "m"
   ]
  },
  {
   "cell_type": "code",
   "execution_count": 110,
   "metadata": {},
   "outputs": [],
   "source": [
    "m = Chem.MolFromSmiles(rxn2rtpt(df.loc[0, 'true_rxn_smiles'])[1])\n",
    "img = Draw.MolToImage(m)\n",
    "img.save('figures/strict_pt_0.png')\n",
    "\n",
    "m = Chem.MolFromSmiles(rxn2rtpt(df.loc[0, 'rxn_smiles'])[1])\n",
    "img = Draw.MolToImage(m)\n",
    "img.save('figures/strict_pt_1.png')\n",
    "\n",
    "m = Chem.MolFromSmiles(rxn2rtpt(df.loc[1, 'rxn_smiles'])[1])\n",
    "img = Draw.MolToImage(m)\n",
    "img.save('figures/strict_pt_2.png')\n",
    "\n",
    "m = Chem.MolFromSmiles(rxn2rtpt(df.loc[2, 'rxn_smiles'])[1])\n",
    "img = Draw.MolToImage(m)\n",
    "img.save('figures/strict_pt_3.png')"
   ]
  },
  {
   "cell_type": "markdown",
   "metadata": {},
   "source": [
    "# METHOD 2 - RANDOM"
   ]
  },
  {
   "cell_type": "code",
   "execution_count": 6,
   "metadata": {},
   "outputs": [
    {
     "data": {
      "text/html": [
       "<div>\n",
       "<style scoped>\n",
       "    .dataframe tbody tr th:only-of-type {\n",
       "        vertical-align: middle;\n",
       "    }\n",
       "\n",
       "    .dataframe tbody tr th {\n",
       "        vertical-align: top;\n",
       "    }\n",
       "\n",
       "    .dataframe thead th {\n",
       "        text-align: right;\n",
       "    }\n",
       "</style>\n",
       "<table border=\"1\" class=\"dataframe\">\n",
       "  <thead>\n",
       "    <tr style=\"text-align: right;\">\n",
       "      <th></th>\n",
       "      <th>rxn_smiles</th>\n",
       "      <th>label</th>\n",
       "      <th>true_rxn_smiles</th>\n",
       "      <th>forward_template</th>\n",
       "      <th>rt</th>\n",
       "    </tr>\n",
       "  </thead>\n",
       "  <tbody>\n",
       "    <tr>\n",
       "      <th>0</th>\n",
       "      <td>COC(=O)[C@H](CCCCNC(=O)OCc1ccccc1)NC(=O)Nc1cc(...</td>\n",
       "      <td>0</td>\n",
       "      <td>COC(=O)[C@H](CCCCNC(=O)OCc1ccccc1)NC(=O)Nc1cc(...</td>\n",
       "      <td>(Br-[c;H0;D3;+0:1](:[#7;a:2]):[c:3]:[#7;a:4])&gt;...</td>\n",
       "      <td>COC(=O)[C@H](CCCCNC(=O)OCc1ccccc1)NC(=O)Nc1cc(...</td>\n",
       "    </tr>\n",
       "    <tr>\n",
       "      <th>1</th>\n",
       "      <td>COC(=O)[C@H](CCCCNC(=O)OCc1ccccc1)NC(=O)Nc1cc(...</td>\n",
       "      <td>0</td>\n",
       "      <td>COC(=O)[C@H](CCCCNC(=O)OCc1ccccc1)NC(=O)Nc1cc(...</td>\n",
       "      <td>(Br-[c;H0;D3;+0:1](:[#7;a:2]):[c:3]:[#7;a:4])&gt;...</td>\n",
       "      <td>COC(=O)[C@H](CCCCNC(=O)OCc1ccccc1)NC(=O)Nc1cc(...</td>\n",
       "    </tr>\n",
       "    <tr>\n",
       "      <th>2</th>\n",
       "      <td>COC(=O)[C@H](CCCCNC(=O)OCc1ccccc1)NC(=O)Nc1cc(...</td>\n",
       "      <td>0</td>\n",
       "      <td>COC(=O)[C@H](CCCCNC(=O)OCc1ccccc1)NC(=O)Nc1cc(...</td>\n",
       "      <td>(Br-[c;H0;D3;+0:1](:[#7;a:2]):[c:3]:[#7;a:4])&gt;...</td>\n",
       "      <td>COC(=O)[C@H](CCCCNC(=O)OCc1ccccc1)NC(=O)Nc1cc(...</td>\n",
       "    </tr>\n",
       "    <tr>\n",
       "      <th>3</th>\n",
       "      <td>COC(=O)[C@H](CCCCNC(=O)OCc1ccccc1)NC(=O)Nc1cc(...</td>\n",
       "      <td>0</td>\n",
       "      <td>COC(=O)[C@H](CCCCNC(=O)OCc1ccccc1)NC(=O)Nc1cc(...</td>\n",
       "      <td>(Br-[c;H0;D3;+0:1](:[#7;a:2]):[c:3]:[#7;a:4])&gt;...</td>\n",
       "      <td>COC(=O)[C@H](CCCCNC(=O)OCc1ccccc1)NC(=O)Nc1cc(...</td>\n",
       "    </tr>\n",
       "    <tr>\n",
       "      <th>4</th>\n",
       "      <td>COC(=O)[C@H](CCCCNC(=O)OCc1ccccc1)NC(=O)Nc1cc(...</td>\n",
       "      <td>0</td>\n",
       "      <td>COC(=O)[C@H](CCCCNC(=O)OCc1ccccc1)NC(=O)Nc1cc(...</td>\n",
       "      <td>(Br-[c;H0;D3;+0:1](:[#7;a:2]):[c:3]:[#7;a:4])&gt;...</td>\n",
       "      <td>COC(=O)[C@H](CCCCNC(=O)OCc1ccccc1)NC(=O)Nc1cc(...</td>\n",
       "    </tr>\n",
       "    <tr>\n",
       "      <th>...</th>\n",
       "      <td>...</td>\n",
       "      <td>...</td>\n",
       "      <td>...</td>\n",
       "      <td>...</td>\n",
       "      <td>...</td>\n",
       "    </tr>\n",
       "    <tr>\n",
       "      <th>360329</th>\n",
       "      <td>O=C(NC1CC1)c1ccc(-c2cnc3c(NCCCO)nc(Br)cn23)cc1...</td>\n",
       "      <td>0</td>\n",
       "      <td>O=C(NC1CC1)c1ccc(-c2cnc3c(NCCCO)nc(Br)cn23)cc1...</td>\n",
       "      <td>(Br-[c;H0;D3;+0:1](:[#7;a:2]):[c:3]:[#7;a:4])&gt;...</td>\n",
       "      <td>O=C(NC1CC1)c1ccc(-c2cnc3c(NCCCO)nc(Br)cn23)cc1</td>\n",
       "    </tr>\n",
       "    <tr>\n",
       "      <th>360330</th>\n",
       "      <td>O=C(NC1CC1)c1ccc(-c2cnc3c(NCCCO)nc(Br)cn23)cc1...</td>\n",
       "      <td>0</td>\n",
       "      <td>O=C(NC1CC1)c1ccc(-c2cnc3c(NCCCO)nc(Br)cn23)cc1...</td>\n",
       "      <td>(Br-[c;H0;D3;+0:1](:[#7;a:2]):[c:3]:[#7;a:4])&gt;...</td>\n",
       "      <td>O=C(NC1CC1)c1ccc(-c2cnc3c(NCCCO)nc(Br)cn23)cc1</td>\n",
       "    </tr>\n",
       "    <tr>\n",
       "      <th>360331</th>\n",
       "      <td>O=C(NC1CC1)c1ccc(-c2cnc3c(NCCCO)nc(Br)cn23)cc1...</td>\n",
       "      <td>0</td>\n",
       "      <td>O=C(NC1CC1)c1ccc(-c2cnc3c(NCCCO)nc(Br)cn23)cc1...</td>\n",
       "      <td>(Br-[c;H0;D3;+0:1](:[#7;a:2]):[c:3]:[#7;a:4])&gt;...</td>\n",
       "      <td>O=C(NC1CC1)c1ccc(-c2cnc3c(NCCCO)nc(Br)cn23)cc1</td>\n",
       "    </tr>\n",
       "    <tr>\n",
       "      <th>360332</th>\n",
       "      <td>O=C(NC1CC1)c1ccc(-c2cnc3c(NCCCO)nc(Br)cn23)cc1...</td>\n",
       "      <td>0</td>\n",
       "      <td>O=C(NC1CC1)c1ccc(-c2cnc3c(NCCCO)nc(Br)cn23)cc1...</td>\n",
       "      <td>(Br-[c;H0;D3;+0:1](:[#7;a:2]):[c:3]:[#7;a:4])&gt;...</td>\n",
       "      <td>O=C(NC1CC1)c1ccc(-c2cnc3c(NCCCO)nc(Br)cn23)cc1</td>\n",
       "    </tr>\n",
       "    <tr>\n",
       "      <th>360333</th>\n",
       "      <td>[N-]=[N+]=NCC1CCN(C(c2ccccc2)(c2ccccc2)c2ccccc...</td>\n",
       "      <td>0</td>\n",
       "      <td>[N-]=[N+]=NCC1CCN(C(c2ccccc2)(c2ccccc2)c2ccccc...</td>\n",
       "      <td>(Br-[c;H0;D3;+0:1](:[#7;a:2]):[c:3]:[#7;a:4])&gt;...</td>\n",
       "      <td>[N-]=[N+]=NCC1CCN(C(c2ccccc2)(c2ccccc2)c2ccccc...</td>\n",
       "    </tr>\n",
       "  </tbody>\n",
       "</table>\n",
       "<p>360334 rows × 5 columns</p>\n",
       "</div>"
      ],
      "text/plain": [
       "                                               rxn_smiles  label  \\\n",
       "0       COC(=O)[C@H](CCCCNC(=O)OCc1ccccc1)NC(=O)Nc1cc(...      0   \n",
       "1       COC(=O)[C@H](CCCCNC(=O)OCc1ccccc1)NC(=O)Nc1cc(...      0   \n",
       "2       COC(=O)[C@H](CCCCNC(=O)OCc1ccccc1)NC(=O)Nc1cc(...      0   \n",
       "3       COC(=O)[C@H](CCCCNC(=O)OCc1ccccc1)NC(=O)Nc1cc(...      0   \n",
       "4       COC(=O)[C@H](CCCCNC(=O)OCc1ccccc1)NC(=O)Nc1cc(...      0   \n",
       "...                                                   ...    ...   \n",
       "360329  O=C(NC1CC1)c1ccc(-c2cnc3c(NCCCO)nc(Br)cn23)cc1...      0   \n",
       "360330  O=C(NC1CC1)c1ccc(-c2cnc3c(NCCCO)nc(Br)cn23)cc1...      0   \n",
       "360331  O=C(NC1CC1)c1ccc(-c2cnc3c(NCCCO)nc(Br)cn23)cc1...      0   \n",
       "360332  O=C(NC1CC1)c1ccc(-c2cnc3c(NCCCO)nc(Br)cn23)cc1...      0   \n",
       "360333  [N-]=[N+]=NCC1CCN(C(c2ccccc2)(c2ccccc2)c2ccccc...      0   \n",
       "\n",
       "                                          true_rxn_smiles  \\\n",
       "0       COC(=O)[C@H](CCCCNC(=O)OCc1ccccc1)NC(=O)Nc1cc(...   \n",
       "1       COC(=O)[C@H](CCCCNC(=O)OCc1ccccc1)NC(=O)Nc1cc(...   \n",
       "2       COC(=O)[C@H](CCCCNC(=O)OCc1ccccc1)NC(=O)Nc1cc(...   \n",
       "3       COC(=O)[C@H](CCCCNC(=O)OCc1ccccc1)NC(=O)Nc1cc(...   \n",
       "4       COC(=O)[C@H](CCCCNC(=O)OCc1ccccc1)NC(=O)Nc1cc(...   \n",
       "...                                                   ...   \n",
       "360329  O=C(NC1CC1)c1ccc(-c2cnc3c(NCCCO)nc(Br)cn23)cc1...   \n",
       "360330  O=C(NC1CC1)c1ccc(-c2cnc3c(NCCCO)nc(Br)cn23)cc1...   \n",
       "360331  O=C(NC1CC1)c1ccc(-c2cnc3c(NCCCO)nc(Br)cn23)cc1...   \n",
       "360332  O=C(NC1CC1)c1ccc(-c2cnc3c(NCCCO)nc(Br)cn23)cc1...   \n",
       "360333  [N-]=[N+]=NCC1CCN(C(c2ccccc2)(c2ccccc2)c2ccccc...   \n",
       "\n",
       "                                         forward_template  \\\n",
       "0       (Br-[c;H0;D3;+0:1](:[#7;a:2]):[c:3]:[#7;a:4])>...   \n",
       "1       (Br-[c;H0;D3;+0:1](:[#7;a:2]):[c:3]:[#7;a:4])>...   \n",
       "2       (Br-[c;H0;D3;+0:1](:[#7;a:2]):[c:3]:[#7;a:4])>...   \n",
       "3       (Br-[c;H0;D3;+0:1](:[#7;a:2]):[c:3]:[#7;a:4])>...   \n",
       "4       (Br-[c;H0;D3;+0:1](:[#7;a:2]):[c:3]:[#7;a:4])>...   \n",
       "...                                                   ...   \n",
       "360329  (Br-[c;H0;D3;+0:1](:[#7;a:2]):[c:3]:[#7;a:4])>...   \n",
       "360330  (Br-[c;H0;D3;+0:1](:[#7;a:2]):[c:3]:[#7;a:4])>...   \n",
       "360331  (Br-[c;H0;D3;+0:1](:[#7;a:2]):[c:3]:[#7;a:4])>...   \n",
       "360332  (Br-[c;H0;D3;+0:1](:[#7;a:2]):[c:3]:[#7;a:4])>...   \n",
       "360333  (Br-[c;H0;D3;+0:1](:[#7;a:2]):[c:3]:[#7;a:4])>...   \n",
       "\n",
       "                                                       rt  \n",
       "0       COC(=O)[C@H](CCCCNC(=O)OCc1ccccc1)NC(=O)Nc1cc(...  \n",
       "1       COC(=O)[C@H](CCCCNC(=O)OCc1ccccc1)NC(=O)Nc1cc(...  \n",
       "2       COC(=O)[C@H](CCCCNC(=O)OCc1ccccc1)NC(=O)Nc1cc(...  \n",
       "3       COC(=O)[C@H](CCCCNC(=O)OCc1ccccc1)NC(=O)Nc1cc(...  \n",
       "4       COC(=O)[C@H](CCCCNC(=O)OCc1ccccc1)NC(=O)Nc1cc(...  \n",
       "...                                                   ...  \n",
       "360329     O=C(NC1CC1)c1ccc(-c2cnc3c(NCCCO)nc(Br)cn23)cc1  \n",
       "360330     O=C(NC1CC1)c1ccc(-c2cnc3c(NCCCO)nc(Br)cn23)cc1  \n",
       "360331     O=C(NC1CC1)c1ccc(-c2cnc3c(NCCCO)nc(Br)cn23)cc1  \n",
       "360332     O=C(NC1CC1)c1ccc(-c2cnc3c(NCCCO)nc(Br)cn23)cc1  \n",
       "360333  [N-]=[N+]=NCC1CCN(C(c2ccccc2)(c2ccccc2)c2ccccc...  \n",
       "\n",
       "[360334 rows x 5 columns]"
      ]
     },
     "execution_count": 6,
     "metadata": {},
     "output_type": "execute_result"
    }
   ],
   "source": [
    "neg_2 = pd.read_csv('negative_random_comprehensive.csv')\n",
    "rt_list = []\n",
    "for rxn in neg_2['rxn_smiles']:\n",
    "    rt, _ = rxn2rtpt(rxn)\n",
    "    # sort reactants in a uniform order\n",
    "    rt_list.append('.'.join(sorted(rt.split('.'))))\n",
    "neg_2['rt'] = rt_list\n",
    "neg_2"
   ]
  },
  {
   "cell_type": "code",
   "execution_count": 7,
   "metadata": {},
   "outputs": [
    {
     "data": {
      "image/png": "[encoded data removed]",
      "text/plain": [
       "<Figure size 432x288 with 1 Axes>"
      ]
     },
     "metadata": {
      "needs_background": "light"
     },
     "output_type": "display_data"
    }
   ],
   "source": [
    "import matplotlib\n",
    "matplotlib.rcParams.update({'font.size': 15})\n",
    "plt.hist(neg_2.groupby('rt').size(), rwidth=1, bins=np.arange(135)+0.5)\n",
    "# plt.xlim(0, 11)\n",
    "# plt.xticks(np.arange(1, 11))\n",
    "plt.xlabel('# possible products by random template matching')\n",
    "plt.ylabel('# reactions')\n",
    "plt.yscale('log')\n",
    "plt.tight_layout()\n",
    "plt.savefig('figures/random_hist.png', dpi=300)"
   ]
  },
  {
   "cell_type": "code",
   "execution_count": 35,
   "metadata": {},
   "outputs": [
    {
     "data": {
      "text/plain": [
       "rt\n",
       "Br.C=C(CCCN1C(=O)c2ccccc2C1=O)C(=O)O                                       7\n",
       "Br.C=CCCC(=O)C(C)(C)N1COC(C)=C(c2ccccc2)C1=O                               7\n",
       "Br.CCOC(=O)C(C)(C)CCC=Cc1ccccc1Cl                                          7\n",
       "BrC#Cc1ccccc1.C#CC(C)(C)O                                                  3\n",
       "BrC(Br)(Br)Br.CC(=O)OCc1ccc(Cl)cc1N([C@H](C)CCCO)S(=O)(=O)c1ccc(Cl)cc1    12\n",
       "BrC(Br)(Br)Br.CC(C)(C)OC(=O)N1CCC(CO)CC1                                   7\n",
       "BrC(Br)(Br)Br.CC(C)(C)OC(=O)N1CCC(O)CC1                                    7\n",
       "BrC(Br)(Br)Br.CC(C)(C)OC(=O)N1CCC2(CC1)CC(O)C2                             7\n",
       "BrC(Br)(Br)Br.CC(C)(C)OC(=O)N1CCCC1c1oc(=O)oc1CO                           7\n",
       "BrC(Br)(Br)Br.CC(C)(C)OC(=O)N1CCO[C@H](CO)C1                              11\n",
       "dtype: int64"
      ]
     },
     "execution_count": 35,
     "metadata": {},
     "output_type": "execute_result"
    }
   ],
   "source": [
    "neg_2.groupby('rt').size()[neg_2.groupby('rt').size() >= 3][:10]"
   ]
  },
  {
   "cell_type": "code",
   "execution_count": 40,
   "metadata": {},
   "outputs": [
    {
     "data": {
      "text/html": [
       "<div>\n",
       "<style scoped>\n",
       "    .dataframe tbody tr th:only-of-type {\n",
       "        vertical-align: middle;\n",
       "    }\n",
       "\n",
       "    .dataframe tbody tr th {\n",
       "        vertical-align: top;\n",
       "    }\n",
       "\n",
       "    .dataframe thead th {\n",
       "        text-align: right;\n",
       "    }\n",
       "</style>\n",
       "<table border=\"1\" class=\"dataframe\">\n",
       "  <thead>\n",
       "    <tr style=\"text-align: right;\">\n",
       "      <th></th>\n",
       "      <th>rxn_smiles</th>\n",
       "      <th>label</th>\n",
       "      <th>true_rxn_smiles</th>\n",
       "      <th>forward_template</th>\n",
       "      <th>rt</th>\n",
       "    </tr>\n",
       "  </thead>\n",
       "  <tbody>\n",
       "    <tr>\n",
       "      <th>0</th>\n",
       "      <td>BrC(Br)(Br)Br.CC(C)(C)OC(=O)N1CCC(O)CC1&gt;&gt;CC(C)...</td>\n",
       "      <td>0</td>\n",
       "      <td>BrC(Br)(Br)Br.CC(C)(C)OC(=O)N1CCC(O)CC1&gt;&gt;CC(C)...</td>\n",
       "      <td>(Br-[c;H0;D3;+0:1](:[#7;a:2]):[c:3]:[#7;a:4])&gt;...</td>\n",
       "      <td>BrC(Br)(Br)Br.CC(C)(C)OC(=O)N1CCC(O)CC1</td>\n",
       "    </tr>\n",
       "    <tr>\n",
       "      <th>1</th>\n",
       "      <td>BrC(Br)(Br)Br.CC(C)(C)OC(=O)N1CCC(O)CC1&gt;&gt;O=C(O...</td>\n",
       "      <td>0</td>\n",
       "      <td>BrC(Br)(Br)Br.CC(C)(C)OC(=O)N1CCC(O)CC1&gt;&gt;CC(C)...</td>\n",
       "      <td>(Br-[c;H0;D3;+0:1](:[#7;a:2]):[c:3]:[#7;a:4])&gt;...</td>\n",
       "      <td>BrC(Br)(Br)Br.CC(C)(C)OC(=O)N1CCC(O)CC1</td>\n",
       "    </tr>\n",
       "    <tr>\n",
       "      <th>2</th>\n",
       "      <td>BrC(Br)(Br)Br.CC(C)(C)OC(=O)N1CCC(O)CC1&gt;&gt;OC1CC...</td>\n",
       "      <td>0</td>\n",
       "      <td>BrC(Br)(Br)Br.CC(C)(C)OC(=O)N1CCC(O)CC1&gt;&gt;CC(C)...</td>\n",
       "      <td>(Br-[c;H0;D3;+0:1](:[#7;a:2]):[c:3]:[#7;a:4])&gt;...</td>\n",
       "      <td>BrC(Br)(Br)Br.CC(C)(C)OC(=O)N1CCC(O)CC1</td>\n",
       "    </tr>\n",
       "    <tr>\n",
       "      <th>3</th>\n",
       "      <td>BrC(Br)(Br)Br.CC(C)(C)OC(=O)N1CCC(O)CC1&gt;&gt;CC(C)...</td>\n",
       "      <td>0</td>\n",
       "      <td>BrC(Br)(Br)Br.CC(C)(C)OC(=O)N1CCC(O)CC1&gt;&gt;CC(C)...</td>\n",
       "      <td>(Br-[c;H0;D3;+0:1](:[#7;a:2]):[c:3]:[#7;a:4])&gt;...</td>\n",
       "      <td>BrC(Br)(Br)Br.CC(C)(C)OC(=O)N1CCC(O)CC1</td>\n",
       "    </tr>\n",
       "    <tr>\n",
       "      <th>4</th>\n",
       "      <td>BrC(Br)(Br)Br.CC(C)(C)OC(=O)N1CCC(O)CC1&gt;&gt;OC1CC...</td>\n",
       "      <td>0</td>\n",
       "      <td>BrC(Br)(Br)Br.CC(C)(C)OC(=O)N1CCC(O)CC1&gt;&gt;CC(C)...</td>\n",
       "      <td>(Br-[c;H0;D3;+0:1](:[#7;a:2]):[c:3]:[#7;a:4])&gt;...</td>\n",
       "      <td>BrC(Br)(Br)Br.CC(C)(C)OC(=O)N1CCC(O)CC1</td>\n",
       "    </tr>\n",
       "    <tr>\n",
       "      <th>5</th>\n",
       "      <td>BrC(Br)(Br)Br.CC(C)(C)OC(=O)N1CCC(O)CC1&gt;&gt;CC(C)...</td>\n",
       "      <td>0</td>\n",
       "      <td>BrC(Br)(Br)Br.CC(C)(C)OC(=O)N1CCC(O)CC1&gt;&gt;CC(C)...</td>\n",
       "      <td>(Br-[c;H0;D3;+0:1](:[#7;a:2]):[c:3]:[#7;a:4])&gt;...</td>\n",
       "      <td>BrC(Br)(Br)Br.CC(C)(C)OC(=O)N1CCC(O)CC1</td>\n",
       "    </tr>\n",
       "    <tr>\n",
       "      <th>6</th>\n",
       "      <td>BrC(Br)(Br)Br.CC(C)(C)OC(=O)N1CCC(O)CC1&gt;&gt;CC(C)...</td>\n",
       "      <td>0</td>\n",
       "      <td>BrC(Br)(Br)Br.CC(C)(C)OC(=O)N1CCC(O)CC1&gt;&gt;CC(C)...</td>\n",
       "      <td>(Br-[c;H0;D3;+0:1](:[#7;a:2]):[c:3]:[#7;a:4])&gt;...</td>\n",
       "      <td>BrC(Br)(Br)Br.CC(C)(C)OC(=O)N1CCC(O)CC1</td>\n",
       "    </tr>\n",
       "  </tbody>\n",
       "</table>\n",
       "</div>"
      ],
      "text/plain": [
       "                                          rxn_smiles  label  \\\n",
       "0  BrC(Br)(Br)Br.CC(C)(C)OC(=O)N1CCC(O)CC1>>CC(C)...      0   \n",
       "1  BrC(Br)(Br)Br.CC(C)(C)OC(=O)N1CCC(O)CC1>>O=C(O...      0   \n",
       "2  BrC(Br)(Br)Br.CC(C)(C)OC(=O)N1CCC(O)CC1>>OC1CC...      0   \n",
       "3  BrC(Br)(Br)Br.CC(C)(C)OC(=O)N1CCC(O)CC1>>CC(C)...      0   \n",
       "4  BrC(Br)(Br)Br.CC(C)(C)OC(=O)N1CCC(O)CC1>>OC1CC...      0   \n",
       "5  BrC(Br)(Br)Br.CC(C)(C)OC(=O)N1CCC(O)CC1>>CC(C)...      0   \n",
       "6  BrC(Br)(Br)Br.CC(C)(C)OC(=O)N1CCC(O)CC1>>CC(C)...      0   \n",
       "\n",
       "                                     true_rxn_smiles  \\\n",
       "0  BrC(Br)(Br)Br.CC(C)(C)OC(=O)N1CCC(O)CC1>>CC(C)...   \n",
       "1  BrC(Br)(Br)Br.CC(C)(C)OC(=O)N1CCC(O)CC1>>CC(C)...   \n",
       "2  BrC(Br)(Br)Br.CC(C)(C)OC(=O)N1CCC(O)CC1>>CC(C)...   \n",
       "3  BrC(Br)(Br)Br.CC(C)(C)OC(=O)N1CCC(O)CC1>>CC(C)...   \n",
       "4  BrC(Br)(Br)Br.CC(C)(C)OC(=O)N1CCC(O)CC1>>CC(C)...   \n",
       "5  BrC(Br)(Br)Br.CC(C)(C)OC(=O)N1CCC(O)CC1>>CC(C)...   \n",
       "6  BrC(Br)(Br)Br.CC(C)(C)OC(=O)N1CCC(O)CC1>>CC(C)...   \n",
       "\n",
       "                                    forward_template  \\\n",
       "0  (Br-[c;H0;D3;+0:1](:[#7;a:2]):[c:3]:[#7;a:4])>...   \n",
       "1  (Br-[c;H0;D3;+0:1](:[#7;a:2]):[c:3]:[#7;a:4])>...   \n",
       "2  (Br-[c;H0;D3;+0:1](:[#7;a:2]):[c:3]:[#7;a:4])>...   \n",
       "3  (Br-[c;H0;D3;+0:1](:[#7;a:2]):[c:3]:[#7;a:4])>...   \n",
       "4  (Br-[c;H0;D3;+0:1](:[#7;a:2]):[c:3]:[#7;a:4])>...   \n",
       "5  (Br-[c;H0;D3;+0:1](:[#7;a:2]):[c:3]:[#7;a:4])>...   \n",
       "6  (Br-[c;H0;D3;+0:1](:[#7;a:2]):[c:3]:[#7;a:4])>...   \n",
       "\n",
       "                                        rt  \n",
       "0  BrC(Br)(Br)Br.CC(C)(C)OC(=O)N1CCC(O)CC1  \n",
       "1  BrC(Br)(Br)Br.CC(C)(C)OC(=O)N1CCC(O)CC1  \n",
       "2  BrC(Br)(Br)Br.CC(C)(C)OC(=O)N1CCC(O)CC1  \n",
       "3  BrC(Br)(Br)Br.CC(C)(C)OC(=O)N1CCC(O)CC1  \n",
       "4  BrC(Br)(Br)Br.CC(C)(C)OC(=O)N1CCC(O)CC1  \n",
       "5  BrC(Br)(Br)Br.CC(C)(C)OC(=O)N1CCC(O)CC1  \n",
       "6  BrC(Br)(Br)Br.CC(C)(C)OC(=O)N1CCC(O)CC1  "
      ]
     },
     "execution_count": 40,
     "metadata": {},
     "output_type": "execute_result"
    }
   ],
   "source": [
    "df = neg_2[neg_2['rt'] == 'BrC(Br)(Br)Br.CC(C)(C)OC(=O)N1CCC(O)CC1'].reset_index(drop=True)\n",
    "df"
   ]
  },
  {
   "cell_type": "code",
   "execution_count": 63,
   "metadata": {},
   "outputs": [],
   "source": [
    "m = Chem.MolFromSmiles(rxn2rtpt(df.loc[0, 'rxn_smiles'])[0].split('.')[0])\n",
    "img = Draw.MolToImage(m)\n",
    "img.save('figures/random_rt_1.png')\n",
    "\n",
    "m = Chem.MolFromSmiles(rxn2rtpt(df.loc[0, 'rxn_smiles'])[0].split('.')[1])\n",
    "img = Draw.MolToImage(m)\n",
    "img.save('figures/random_rt_2.png')\n",
    "\n",
    "m = Chem.MolFromSmiles(rxn2rtpt(df.loc[0, 'true_rxn_smiles'])[1])\n",
    "img = Draw.MolToImage(m)\n",
    "img.save('figures/random_pt_0.png')\n",
    "\n",
    "m = Chem.MolFromSmiles(rxn2rtpt(df.loc[0, 'rxn_smiles'])[1])\n",
    "img = Draw.MolToImage(m)\n",
    "img.save('figures/random_pt_1.png')\n",
    "\n",
    "m = Chem.MolFromSmiles(rxn2rtpt(df.loc[1, 'rxn_smiles'])[1])\n",
    "img = Draw.MolToImage(m)\n",
    "img.save('figures/random_pt_2.png')\n",
    "\n",
    "m = Chem.MolFromSmiles(rxn2rtpt(df.loc[2, 'rxn_smiles'])[1])\n",
    "img = Draw.MolToImage(m)\n",
    "img.save('figures/random_pt_3.png')\n",
    "\n",
    "m = Chem.MolFromSmiles(rxn2rtpt(df.loc[3, 'rxn_smiles'])[1])\n",
    "img = Draw.MolToImage(m)\n",
    "img.save('figures/random_pt_4.png')\n",
    "\n",
    "m = Chem.MolFromSmiles(rxn2rtpt(df.loc[4, 'rxn_smiles'])[1])\n",
    "img = Draw.MolToImage(m)\n",
    "img.save('figures/random_pt_5.png')\n",
    "\n",
    "m = Chem.MolFromSmiles(rxn2rtpt(df.loc[5, 'rxn_smiles'])[1])\n",
    "img = Draw.MolToImage(m)\n",
    "img.save('figures/random_pt_6.png')\n",
    "\n",
    "m = Chem.MolFromSmiles(rxn2rtpt(df.loc[6, 'rxn_smiles'])[1])\n",
    "img = Draw.MolToImage(m)\n",
    "img.save('figures/random_pt_7.png')"
   ]
  },
  {
   "cell_type": "code",
   "execution_count": 41,
   "metadata": {},
   "outputs": [
    {
     "data": {
      "image/png": "[encoded data removed]",
      "text/plain": [
       "<rdkit.Chem.rdChemReactions.ChemicalReaction at 0x1e88bf82920>"
      ]
     },
     "execution_count": 41,
     "metadata": {},
     "output_type": "execute_result"
    }
   ],
   "source": [
    "AllChem.ReactionFromSmarts(df.loc[0, 'rxn_smiles'])"
   ]
  },
  {
   "cell_type": "code",
   "execution_count": 45,
   "metadata": {},
   "outputs": [
    {
     "data": {
      "image/png": "[encoded data removed]",
      "text/plain": [
       "<rdkit.Chem.rdChemReactions.ChemicalReaction at 0x1e88bf82bc0>"
      ]
     },
     "execution_count": 45,
     "metadata": {},
     "output_type": "execute_result"
    }
   ],
   "source": [
    "AllChem.ReactionFromSmarts(df.loc[1, 'rxn_smiles'])"
   ]
  },
  {
   "cell_type": "code",
   "execution_count": 46,
   "metadata": {},
   "outputs": [
    {
     "data": {
      "image/png": "[encoded data removed]",
      "text/plain": [
       "<rdkit.Chem.rdChemReactions.ChemicalReaction at 0x1e88bf837c0>"
      ]
     },
     "execution_count": 46,
     "metadata": {},
     "output_type": "execute_result"
    }
   ],
   "source": [
    "AllChem.ReactionFromSmarts(df.loc[2, 'rxn_smiles'])"
   ]
  }
 ],
 "metadata": {
  "interpreter": {
   "hash": "c45e1f4cff16ded6653d5122b243e74746b1533e5e96f730958c4db3332ffa40"
  },
  "kernelspec": {
   "display_name": "Python 3.10.0 ('AIHacks')",
   "language": "python",
   "name": "python3"
  },
  "language_info": {
   "codemirror_mode": {
    "name": "ipython",
    "version": 3
   },
   "file_extension": ".py",
   "mimetype": "text/x-python",
   "name": "python",
   "nbconvert_exporter": "python",
   "pygments_lexer": "ipython3",
   "version": "3.10.0"
  },
  "orig_nbformat": 4
 },
 "nbformat": 4,
 "nbformat_minor": 2
}
