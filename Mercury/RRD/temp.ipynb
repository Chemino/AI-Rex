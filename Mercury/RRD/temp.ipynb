{
 "cells": [
  {
   "cell_type": "code",
   "execution_count": 1,
   "metadata": {},
   "outputs": [],
   "source": [
    "import pandas as pd\n",
    "from rdkit import Chem\n",
    "from rdkit.Chem.Draw import IPythonConsole\n",
    "from rdkit.Chem import Draw"
   ]
  },
  {
   "cell_type": "code",
   "execution_count": 2,
   "metadata": {},
   "outputs": [
    {
     "data": {
      "text/html": [
       "<div>\n",
       "<style scoped>\n",
       "    .dataframe tbody tr th:only-of-type {\n",
       "        vertical-align: middle;\n",
       "    }\n",
       "\n",
       "    .dataframe tbody tr th {\n",
       "        vertical-align: top;\n",
       "    }\n",
       "\n",
       "    .dataframe thead th {\n",
       "        text-align: right;\n",
       "    }\n",
       "</style>\n",
       "<table border=\"1\" class=\"dataframe\">\n",
       "  <thead>\n",
       "    <tr style=\"text-align: right;\">\n",
       "      <th></th>\n",
       "      <th>rxn_smiles</th>\n",
       "      <th>label</th>\n",
       "      <th>reactants</th>\n",
       "      <th>products</th>\n",
       "      <th>group</th>\n",
       "    </tr>\n",
       "  </thead>\n",
       "  <tbody>\n",
       "    <tr>\n",
       "      <th>0</th>\n",
       "      <td>Br.C=C(CCCN1C(=O)c2ccccc2C1=O)C(=O)O&gt;&gt;C=C(CCCN...</td>\n",
       "      <td>0</td>\n",
       "      <td>Br.C=C(CCCN1C(=O)c2ccccc2C1=O)C(=O)O</td>\n",
       "      <td>C=C(CCCNC=O)C(=O)O</td>\n",
       "      <td>0</td>\n",
       "    </tr>\n",
       "    <tr>\n",
       "      <th>1</th>\n",
       "      <td>Br.C=C(CCCN1C(=O)c2ccccc2C1=O)C(=O)O&gt;&gt;C=C(CCCN...</td>\n",
       "      <td>0</td>\n",
       "      <td>Br.C=C(CCCN1C(=O)c2ccccc2C1=O)C(=O)O</td>\n",
       "      <td>C=C(CCCN1Cc2ccccc2C1=O)C(=O)O</td>\n",
       "      <td>0</td>\n",
       "    </tr>\n",
       "    <tr>\n",
       "      <th>2</th>\n",
       "      <td>Br.CCOC(=O)C(C)(C)CCC=Cc1ccccc1Cl&gt;&gt;CC(C)(CCC=C...</td>\n",
       "      <td>0</td>\n",
       "      <td>Br.CCOC(=O)C(C)(C)CCC=Cc1ccccc1Cl</td>\n",
       "      <td>CC(C)(CCC=Cc1ccccc1Cl)C(=O)O</td>\n",
       "      <td>1</td>\n",
       "    </tr>\n",
       "    <tr>\n",
       "      <th>3</th>\n",
       "      <td>Br.CCOC(=O)C(C)(C)CCC=Cc1ccccc1Cl&gt;&gt;CC(C)(CO)CC...</td>\n",
       "      <td>0</td>\n",
       "      <td>Br.CCOC(=O)C(C)(C)CCC=Cc1ccccc1Cl</td>\n",
       "      <td>CC(C)(CO)CCC=Cc1ccccc1Cl</td>\n",
       "      <td>1</td>\n",
       "    </tr>\n",
       "    <tr>\n",
       "      <th>4</th>\n",
       "      <td>BrC(Br)(Br)Br.CC(=O)OCc1ccc(Cl)cc1N([C@H](C)CC...</td>\n",
       "      <td>0</td>\n",
       "      <td>BrC(Br)(Br)Br.CC(=O)OCc1ccc(Cl)cc1N([C@H](C)CC...</td>\n",
       "      <td>CC=O</td>\n",
       "      <td>4</td>\n",
       "    </tr>\n",
       "  </tbody>\n",
       "</table>\n",
       "</div>"
      ],
      "text/plain": [
       "                                          rxn_smiles  label  \\\n",
       "0  Br.C=C(CCCN1C(=O)c2ccccc2C1=O)C(=O)O>>C=C(CCCN...      0   \n",
       "1  Br.C=C(CCCN1C(=O)c2ccccc2C1=O)C(=O)O>>C=C(CCCN...      0   \n",
       "2  Br.CCOC(=O)C(C)(C)CCC=Cc1ccccc1Cl>>CC(C)(CCC=C...      0   \n",
       "3  Br.CCOC(=O)C(C)(C)CCC=Cc1ccccc1Cl>>CC(C)(CO)CC...      0   \n",
       "4  BrC(Br)(Br)Br.CC(=O)OCc1ccc(Cl)cc1N([C@H](C)CC...      0   \n",
       "\n",
       "                                           reactants  \\\n",
       "0               Br.C=C(CCCN1C(=O)c2ccccc2C1=O)C(=O)O   \n",
       "1               Br.C=C(CCCN1C(=O)c2ccccc2C1=O)C(=O)O   \n",
       "2                  Br.CCOC(=O)C(C)(C)CCC=Cc1ccccc1Cl   \n",
       "3                  Br.CCOC(=O)C(C)(C)CCC=Cc1ccccc1Cl   \n",
       "4  BrC(Br)(Br)Br.CC(=O)OCc1ccc(Cl)cc1N([C@H](C)CC...   \n",
       "\n",
       "                        products  group  \n",
       "0             C=C(CCCNC=O)C(=O)O      0  \n",
       "1  C=C(CCCN1Cc2ccccc2C1=O)C(=O)O      0  \n",
       "2   CC(C)(CCC=Cc1ccccc1Cl)C(=O)O      1  \n",
       "3       CC(C)(CO)CCC=Cc1ccccc1Cl      1  \n",
       "4                           CC=O      4  "
      ]
     },
     "execution_count": 2,
     "metadata": {},
     "output_type": "execute_result"
    }
   ],
   "source": [
    "df = pd.read_csv('../../data/uspto/train.csv', index_col=0)\n",
    "df.head()"
   ]
  },
  {
   "cell_type": "code",
   "execution_count": 3,
   "metadata": {},
   "outputs": [
    {
     "name": "stderr",
     "output_type": "stream",
     "text": [
      "2022-05-21 20:45:03.786451: I tensorflow/core/util/util.cc:169] oneDNN custom operations are on. You may see slightly different numerical results due to floating-point round-off errors from different computation orders. To turn them off, set the environment variable `TF_ENABLE_ONEDNN_OPTS=0`.\n",
      "2022-05-21 20:45:05.237689: E tensorflow/stream_executor/cuda/cuda_driver.cc:271] failed call to cuInit: CUDA_ERROR_NO_DEVICE: no CUDA-capable device is detected\n",
      "2022-05-21 20:45:05.237728: I tensorflow/stream_executor/cuda/cuda_diagnostics.cc:169] retrieving CUDA diagnostic information for host: S03-SIAI\n",
      "2022-05-21 20:45:05.237734: I tensorflow/stream_executor/cuda/cuda_diagnostics.cc:176] hostname: S03-SIAI\n",
      "2022-05-21 20:45:05.237828: I tensorflow/stream_executor/cuda/cuda_diagnostics.cc:200] libcuda reported version is: NOT_FOUND: was unable to find libcuda.so DSO loaded into this program\n",
      "2022-05-21 20:45:05.237859: I tensorflow/stream_executor/cuda/cuda_diagnostics.cc:204] kernel reported version is: 510.73.5\n",
      "2022-05-21 20:45:05.238149: I tensorflow/core/platform/cpu_feature_guard.cc:193] This TensorFlow binary is optimized with oneAPI Deep Neural Network Library (oneDNN) to use the following CPU instructions in performance-critical operations:  AVX2 AVX512F AVX512_VNNI FMA\n",
      "To enable them in other operations, rebuild TensorFlow with the appropriate compiler flags.\n"
     ]
    },
    {
     "name": "stdout",
     "output_type": "stream",
     "text": [
      "WARNING:tensorflow:No training configuration found in save file, so the model was *not* compiled. Compile it manually.\n"
     ]
    }
   ],
   "source": [
    "from modify_rrd import RRDCalculator\n",
    "RRDC = RRDCalculator(scale=True)\n"
   ]
  },
  {
   "cell_type": "code",
   "execution_count": 4,
   "metadata": {},
   "outputs": [
    {
     "name": "stderr",
     "output_type": "stream",
     "text": [
      "100%|##########| 2/2 [00:00<00:00, 94.13it/s]\n",
      "2022-05-21 20:45:14.706940: I tensorflow/core/util/util.cc:169] oneDNN custom operations are on. You may see slightly different numerical results due to floating-point round-off errors from different computation orders. To turn them off, set the environment variable `TF_ENABLE_ONEDNN_OPTS=0`.\n",
      "2022-05-21 20:45:14.706940: I tensorflow/core/util/util.cc:169] oneDNN custom operations are on. You may see slightly different numerical results due to floating-point round-off errors from different computation orders. To turn them off, set the environment variable `TF_ENABLE_ONEDNN_OPTS=0`.\n",
      "2022-05-21 20:45:16.030705: E tensorflow/stream_executor/cuda/cuda_driver.cc:271] failed call to cuInit: CUDA_ERROR_NO_DEVICE: no CUDA-capable device is detected\n",
      "2022-05-21 20:45:16.030746: I tensorflow/stream_executor/cuda/cuda_diagnostics.cc:169] retrieving CUDA diagnostic information for host: S03-SIAI\n",
      "2022-05-21 20:45:16.030752: I tensorflow/stream_executor/cuda/cuda_diagnostics.cc:176] hostname: S03-SIAI\n",
      "2022-05-21 20:45:16.030850: I tensorflow/stream_executor/cuda/cuda_diagnostics.cc:200] libcuda reported version is: NOT_FOUND: was unable to find libcuda.so DSO loaded into this program\n",
      "2022-05-21 20:45:16.030878: I tensorflow/stream_executor/cuda/cuda_diagnostics.cc:204] kernel reported version is: 510.73.5\n",
      "2022-05-21 20:45:16.031137: I tensorflow/core/platform/cpu_feature_guard.cc:193] This TensorFlow binary is optimized with oneAPI Deep Neural Network Library (oneDNN) to use the following CPU instructions in performance-critical operations:  AVX2 AVX512F AVX512_VNNI FMA\n",
      "To enable them in other operations, rebuild TensorFlow with the appropriate compiler flags.\n",
      "2022-05-21 20:45:16.041443: E tensorflow/stream_executor/cuda/cuda_driver.cc:271] failed call to cuInit: CUDA_ERROR_NO_DEVICE: no CUDA-capable device is detected\n",
      "2022-05-21 20:45:16.041481: I tensorflow/stream_executor/cuda/cuda_diagnostics.cc:169] retrieving CUDA diagnostic information for host: S03-SIAI\n",
      "2022-05-21 20:45:16.041487: I tensorflow/stream_executor/cuda/cuda_diagnostics.cc:176] hostname: S03-SIAI\n",
      "2022-05-21 20:45:16.041589: I tensorflow/stream_executor/cuda/cuda_diagnostics.cc:200] libcuda reported version is: NOT_FOUND: was unable to find libcuda.so DSO loaded into this program\n",
      "2022-05-21 20:45:16.041621: I tensorflow/stream_executor/cuda/cuda_diagnostics.cc:204] kernel reported version is: 510.73.5\n",
      "2022-05-21 20:45:16.041849: I tensorflow/core/platform/cpu_feature_guard.cc:193] This TensorFlow binary is optimized with oneAPI Deep Neural Network Library (oneDNN) to use the following CPU instructions in performance-critical operations:  AVX2 AVX512F AVX512_VNNI FMA\n",
      "To enable them in other operations, rebuild TensorFlow with the appropriate compiler flags.\n",
      "WARNING:tensorflow:No training configuration found in save file, so the model was *not* compiled. Compile it manually.\n",
      "WARNING:tensorflow:No training configuration found in save file, so the model was *not* compiled. Compile it manually.\n"
     ]
    },
    {
     "name": "stdout",
     "output_type": "stream",
     "text": [
      "1/1 [==============================] - 1s 1s/step\n",
      "1/1 [==============================] - 1s 1s/step\n"
     ]
    },
    {
     "name": "stderr",
     "output_type": "stream",
     "text": [
      "100%|##########| 2/2 [00:00<00:00, 1222.47it/s]\n",
      "2022-05-21 20:45:24.544375: I tensorflow/core/util/util.cc:169] oneDNN custom operations are on. You may see slightly different numerical results due to floating-point round-off errors from different computation orders. To turn them off, set the environment variable `TF_ENABLE_ONEDNN_OPTS=0`.\n",
      "2022-05-21 20:45:24.609393: I tensorflow/core/util/util.cc:169] oneDNN custom operations are on. You may see slightly different numerical results due to floating-point round-off errors from different computation orders. To turn them off, set the environment variable `TF_ENABLE_ONEDNN_OPTS=0`.\n",
      "2022-05-21 20:45:25.867780: E tensorflow/stream_executor/cuda/cuda_driver.cc:271] failed call to cuInit: CUDA_ERROR_NO_DEVICE: no CUDA-capable device is detected\n",
      "2022-05-21 20:45:25.867820: I tensorflow/stream_executor/cuda/cuda_diagnostics.cc:169] retrieving CUDA diagnostic information for host: S03-SIAI\n",
      "2022-05-21 20:45:25.867826: I tensorflow/stream_executor/cuda/cuda_diagnostics.cc:176] hostname: S03-SIAI\n",
      "2022-05-21 20:45:25.867923: I tensorflow/stream_executor/cuda/cuda_diagnostics.cc:200] libcuda reported version is: NOT_FOUND: was unable to find libcuda.so DSO loaded into this program\n",
      "2022-05-21 20:45:25.867951: I tensorflow/stream_executor/cuda/cuda_diagnostics.cc:204] kernel reported version is: 510.73.5\n",
      "2022-05-21 20:45:25.868205: I tensorflow/core/platform/cpu_feature_guard.cc:193] This TensorFlow binary is optimized with oneAPI Deep Neural Network Library (oneDNN) to use the following CPU instructions in performance-critical operations:  AVX2 AVX512F AVX512_VNNI FMA\n",
      "To enable them in other operations, rebuild TensorFlow with the appropriate compiler flags.\n",
      "2022-05-21 20:45:25.930827: E tensorflow/stream_executor/cuda/cuda_driver.cc:271] failed call to cuInit: CUDA_ERROR_NO_DEVICE: no CUDA-capable device is detected\n",
      "2022-05-21 20:45:25.930864: I tensorflow/stream_executor/cuda/cuda_diagnostics.cc:169] retrieving CUDA diagnostic information for host: S03-SIAI\n",
      "2022-05-21 20:45:25.930870: I tensorflow/stream_executor/cuda/cuda_diagnostics.cc:176] hostname: S03-SIAI\n",
      "2022-05-21 20:45:25.930960: I tensorflow/stream_executor/cuda/cuda_diagnostics.cc:200] libcuda reported version is: NOT_FOUND: was unable to find libcuda.so DSO loaded into this program\n",
      "2022-05-21 20:45:25.930989: I tensorflow/stream_executor/cuda/cuda_diagnostics.cc:204] kernel reported version is: 510.73.5\n",
      "2022-05-21 20:45:25.931228: I tensorflow/core/platform/cpu_feature_guard.cc:193] This TensorFlow binary is optimized with oneAPI Deep Neural Network Library (oneDNN) to use the following CPU instructions in performance-critical operations:  AVX2 AVX512F AVX512_VNNI FMA\n",
      "To enable them in other operations, rebuild TensorFlow with the appropriate compiler flags.\n",
      "WARNING:tensorflow:No training configuration found in save file, so the model was *not* compiled. Compile it manually.\n",
      "WARNING:tensorflow:No training configuration found in save file, so the model was *not* compiled. Compile it manually.\n"
     ]
    },
    {
     "name": "stdout",
     "output_type": "stream",
     "text": [
      "1/1 [==============================] - 1s 1s/step\n",
      "1/1 [==============================] - 1s 1s/step\n"
     ]
    },
    {
     "name": "stderr",
     "output_type": "stream",
     "text": [
      "2022-05-21 20:45:32.740712: W tensorflow/core/data/root_dataset.cc:247] Optimization loop failed: CANCELLED: Operation was cancelled\n"
     ]
    }
   ],
   "source": [
    "reactant_smiles = df['reactants'][0]\n",
    "product_smiles = df['products'][0]\n",
    "reactants = reactant_smiles.split('.')\n",
    "products = product_smiles.split('.')\n",
    "reactants_fea = RRDC.batch_transform(reactants, n_jobs=10)\n",
    "products_fea = RRDC.batch_transform(reactants, n_jobs=10)\n",
    "\n",
    "reactants_mol = [Chem.MolFromSmiles(i) for i in reactants]\n",
    "products_mol = [Chem.MolFromSmiles(i) for i in products]\n",
    "\n",
    "            ###!!!! add H \n",
    "reactants_mol = [Chem.AddHs(i) for i in reactants_mol]\n",
    "products_mol = [Chem.AddHs(i) for i in products_mol]"
   ]
  },
  {
   "cell_type": "code",
   "execution_count": 5,
   "metadata": {},
   "outputs": [],
   "source": [
    "import numpy as np\n",
    "import dgl\n",
    "import torch\n",
    "\n",
    "def mol_to_dgl(raw_graph, feature):\n",
    "    # add edges\n",
    "    #reactants_mol[mol, mol, mol], reactants_fea[(dfa, dfb), (dfa, dfb)]\n",
    "    atoms = np.array([0] + [mol.GetNumAtoms() for mol in raw_graph])\n",
    "    atom_cumsum = atoms.cumsum().tolist()[:-1]\n",
    "\n",
    "    atom_fea = [df[0] for df in feature]\n",
    "    bond_fea = [df[1] for df in feature]\n",
    "\n",
    "    edges_src = [df.BeginAtomIdx.values.astype(int) for df in bond_fea]\n",
    "    edges_dst = [df.EndAtomIdx.values.astype(int) for df in bond_fea]\n",
    "    \n",
    "    edges_src = [edges_src[i] + atom_cumsum[i] for i in range(len(atom_cumsum))]\n",
    "    edges_dst= [edges_dst[i] + atom_cumsum[i] for i in range(len(atom_cumsum))]\n",
    "\n",
    "    edges_src = np.concatenate(edges_src)\n",
    "    edges_dst = np.concatenate(edges_dst)\n",
    "\n",
    "    all_atom_fea = np.array(pd.concat(atom_fea))\n",
    "    all_bond_fea = pd.concat(bond_fea)\n",
    "    all_bond_fea = all_bond_fea.drop(['BeginAtomIdx', 'EndAtomIdx'], axis=1)\n",
    "    all_bond_fea = np.array(all_bond_fea)\n",
    "    \n",
    "    graph = dgl.graph((edges_src, edges_src), num_nodes=all_atom_fea.shape[0])\n",
    "    graph.ndata['feature'] = torch.from_numpy(all_atom_fea)\n",
    "    graph.edata['feature'] = torch.from_numpy(all_bond_fea)\n",
    "    # transform to bi-directed graph with self-loops\n",
    "    graph = dgl.to_bidirected(graph, copy_ndata=True)\n",
    "    graph = dgl.add_self_loop(graph)\n",
    "    return graph"
   ]
  },
  {
   "cell_type": "code",
   "execution_count": 6,
   "metadata": {},
   "outputs": [
    {
     "data": {
      "text/html": [
       "<div>\n",
       "<style scoped>\n",
       "    .dataframe tbody tr th:only-of-type {\n",
       "        vertical-align: middle;\n",
       "    }\n",
       "\n",
       "    .dataframe tbody tr th {\n",
       "        vertical-align: top;\n",
       "    }\n",
       "\n",
       "    .dataframe thead th {\n",
       "        text-align: right;\n",
       "    }\n",
       "</style>\n",
       "<table border=\"1\" class=\"dataframe\">\n",
       "  <thead>\n",
       "    <tr style=\"text-align: right;\">\n",
       "      <th></th>\n",
       "      <th>PC</th>\n",
       "      <th>FN</th>\n",
       "      <th>FE</th>\n",
       "      <th>NSC</th>\n",
       "      <th>GC</th>\n",
       "      <th>MR</th>\n",
       "      <th>APol</th>\n",
       "      <th>SHI</th>\n",
       "      <th>TSEI</th>\n",
       "      <th>0</th>\n",
       "      <th>...</th>\n",
       "      <th>8</th>\n",
       "      <th>9</th>\n",
       "      <th>10</th>\n",
       "      <th>11</th>\n",
       "      <th>12</th>\n",
       "      <th>13</th>\n",
       "      <th>14</th>\n",
       "      <th>15</th>\n",
       "      <th>16</th>\n",
       "      <th>17</th>\n",
       "    </tr>\n",
       "    <tr>\n",
       "      <th>AtomIdx</th>\n",
       "      <th></th>\n",
       "      <th></th>\n",
       "      <th></th>\n",
       "      <th></th>\n",
       "      <th></th>\n",
       "      <th></th>\n",
       "      <th></th>\n",
       "      <th></th>\n",
       "      <th></th>\n",
       "      <th></th>\n",
       "      <th></th>\n",
       "      <th></th>\n",
       "      <th></th>\n",
       "      <th></th>\n",
       "      <th></th>\n",
       "      <th></th>\n",
       "      <th></th>\n",
       "      <th></th>\n",
       "      <th></th>\n",
       "      <th></th>\n",
       "      <th></th>\n",
       "    </tr>\n",
       "  </thead>\n",
       "  <tbody>\n",
       "    <tr>\n",
       "      <th>0</th>\n",
       "      <td>0.347135</td>\n",
       "      <td>1.00000</td>\n",
       "      <td>1.000000</td>\n",
       "      <td>1.000000</td>\n",
       "      <td>0.510199</td>\n",
       "      <td>0.636733</td>\n",
       "      <td>0.248233</td>\n",
       "      <td>0.000000</td>\n",
       "      <td>0.0</td>\n",
       "      <td>0</td>\n",
       "      <td>...</td>\n",
       "      <td>0</td>\n",
       "      <td>0</td>\n",
       "      <td>0</td>\n",
       "      <td>0</td>\n",
       "      <td>0</td>\n",
       "      <td>0</td>\n",
       "      <td>1</td>\n",
       "      <td>0</td>\n",
       "      <td>0</td>\n",
       "      <td>0</td>\n",
       "    </tr>\n",
       "    <tr>\n",
       "      <th>1</th>\n",
       "      <td>0.465139</td>\n",
       "      <td>0.10392</td>\n",
       "      <td>0.526888</td>\n",
       "      <td>0.445984</td>\n",
       "      <td>0.666147</td>\n",
       "      <td>0.099501</td>\n",
       "      <td>0.010932</td>\n",
       "      <td>0.129494</td>\n",
       "      <td>0.0</td>\n",
       "      <td>1</td>\n",
       "      <td>...</td>\n",
       "      <td>0</td>\n",
       "      <td>0</td>\n",
       "      <td>0</td>\n",
       "      <td>0</td>\n",
       "      <td>0</td>\n",
       "      <td>0</td>\n",
       "      <td>0</td>\n",
       "      <td>0</td>\n",
       "      <td>0</td>\n",
       "      <td>0</td>\n",
       "    </tr>\n",
       "  </tbody>\n",
       "</table>\n",
       "<p>2 rows × 27 columns</p>\n",
       "</div>"
      ],
      "text/plain": [
       "               PC       FN        FE       NSC        GC        MR      APol  \\\n",
       "AtomIdx                                                                        \n",
       "0        0.347135  1.00000  1.000000  1.000000  0.510199  0.636733  0.248233   \n",
       "1        0.465139  0.10392  0.526888  0.445984  0.666147  0.099501  0.010932   \n",
       "\n",
       "              SHI  TSEI  0  ...  8  9  10  11  12  13  14  15  16  17  \n",
       "AtomIdx                     ...                                        \n",
       "0        0.000000   0.0  0  ...  0  0   0   0   0   0   1   0   0   0  \n",
       "1        0.129494   0.0  1  ...  0  0   0   0   0   0   0   0   0   0  \n",
       "\n",
       "[2 rows x 27 columns]"
      ]
     },
     "execution_count": 6,
     "metadata": {},
     "output_type": "execute_result"
    }
   ],
   "source": [
    "reactants_fea[0][0]"
   ]
  },
  {
   "cell_type": "code",
   "execution_count": 7,
   "metadata": {},
   "outputs": [
    {
     "data": {
      "text/html": [
       "<div>\n",
       "<style scoped>\n",
       "    .dataframe tbody tr th:only-of-type {\n",
       "        vertical-align: middle;\n",
       "    }\n",
       "\n",
       "    .dataframe tbody tr th {\n",
       "        vertical-align: top;\n",
       "    }\n",
       "\n",
       "    .dataframe thead th {\n",
       "        text-align: right;\n",
       "    }\n",
       "</style>\n",
       "<table border=\"1\" class=\"dataframe\">\n",
       "  <thead>\n",
       "    <tr style=\"text-align: right;\">\n",
       "      <th></th>\n",
       "      <th>SB</th>\n",
       "      <th>DB</th>\n",
       "      <th>TB</th>\n",
       "      <th>AB</th>\n",
       "      <th>CB</th>\n",
       "      <th>RB</th>\n",
       "      <th>SN</th>\n",
       "      <th>SA</th>\n",
       "      <th>SS</th>\n",
       "      <th>SR</th>\n",
       "      <th>BO</th>\n",
       "      <th>BL</th>\n",
       "      <th>BDE</th>\n",
       "      <th>BDFE</th>\n",
       "      <th>BeginAtomIdx</th>\n",
       "      <th>EndAtomIdx</th>\n",
       "    </tr>\n",
       "    <tr>\n",
       "      <th>BondIdx</th>\n",
       "      <th></th>\n",
       "      <th></th>\n",
       "      <th></th>\n",
       "      <th></th>\n",
       "      <th></th>\n",
       "      <th></th>\n",
       "      <th></th>\n",
       "      <th></th>\n",
       "      <th></th>\n",
       "      <th></th>\n",
       "      <th></th>\n",
       "      <th></th>\n",
       "      <th></th>\n",
       "      <th></th>\n",
       "      <th></th>\n",
       "      <th></th>\n",
       "    </tr>\n",
       "  </thead>\n",
       "  <tbody>\n",
       "    <tr>\n",
       "      <th>0</th>\n",
       "      <td>1.0</td>\n",
       "      <td>0.0</td>\n",
       "      <td>0.0</td>\n",
       "      <td>0.0</td>\n",
       "      <td>0.0</td>\n",
       "      <td>0.0</td>\n",
       "      <td>1.0</td>\n",
       "      <td>0.0</td>\n",
       "      <td>0.0</td>\n",
       "      <td>0.0</td>\n",
       "      <td>0.192808</td>\n",
       "      <td>0.369449</td>\n",
       "      <td>0.351776</td>\n",
       "      <td>0.355857</td>\n",
       "      <td>1</td>\n",
       "      <td>0</td>\n",
       "    </tr>\n",
       "  </tbody>\n",
       "</table>\n",
       "</div>"
      ],
      "text/plain": [
       "          SB   DB   TB   AB   CB   RB   SN   SA   SS   SR        BO        BL  \\\n",
       "BondIdx                                                                         \n",
       "0        1.0  0.0  0.0  0.0  0.0  0.0  1.0  0.0  0.0  0.0  0.192808  0.369449   \n",
       "\n",
       "              BDE      BDFE  BeginAtomIdx  EndAtomIdx  \n",
       "BondIdx                                                \n",
       "0        0.351776  0.355857             1           0  "
      ]
     },
     "execution_count": 7,
     "metadata": {},
     "output_type": "execute_result"
    }
   ],
   "source": [
    "reactants_fea[0][1]"
   ]
  },
  {
   "cell_type": "code",
   "execution_count": 8,
   "metadata": {},
   "outputs": [],
   "source": [
    "g = mol_to_dgl(reactants_mol, reactants_fea)"
   ]
  },
  {
   "cell_type": "code",
   "execution_count": null,
   "metadata": {},
   "outputs": [],
   "source": [
    "def get_atom_icnum(df):\n",
    "    res = set()\n",
    "    mol1 = Chem.MolFromSmiles(df['reactants'])\n",
    "    mol2 = Chem.MolFromSmiles(df['products'])\n",
    "    mol1 = Chem.AddHs(mol1)\n",
    "    mol2 = Chem.AddHs(mol2)\n",
    "    for atom in mol1.GetAtoms():\n",
    "        anum = atom.GetAtomicNum()\n",
    "        res.add(anum)\n",
    "    for atom in mol2.GetAtoms():\n",
    "        anum = atom.GetAtomicNum()\n",
    "        res.add(anum)\n",
    "    \n",
    "    return res\n"
   ]
  },
  {
   "cell_type": "code",
   "execution_count": null,
   "metadata": {},
   "outputs": [],
   "source": [
    "df['atom'] = df.apply(lambda x:get_atom_icnum(x), axis=1)"
   ]
  },
  {
   "cell_type": "code",
   "execution_count": null,
   "metadata": {},
   "outputs": [],
   "source": [
    "df.head()"
   ]
  },
  {
   "cell_type": "code",
   "execution_count": null,
   "metadata": {},
   "outputs": [],
   "source": [
    "all_atom = set()\n",
    "for i in df['atom'].values:\n",
    "    all_atom = all_atom | i"
   ]
  },
  {
   "cell_type": "code",
   "execution_count": null,
   "metadata": {},
   "outputs": [],
   "source": [
    "len(all_atom)"
   ]
  },
  {
   "cell_type": "code",
   "execution_count": null,
   "metadata": {},
   "outputs": [],
   "source": [
    "all_atom"
   ]
  },
  {
   "cell_type": "code",
   "execution_count": null,
   "metadata": {},
   "outputs": [],
   "source": [
    "import numpy as np\n",
    "c = np.array([0] + [2,3,4,6])\n",
    "c.cumsum().tolist()[:-1]"
   ]
  },
  {
   "cell_type": "code",
   "execution_count": null,
   "metadata": {},
   "outputs": [],
   "source": [
    "smiles"
   ]
  },
  {
   "cell_type": "code",
   "execution_count": null,
   "metadata": {},
   "outputs": [],
   "source": [
    "dfa, dfb = get_rrd(smiles)"
   ]
  },
  {
   "cell_type": "code",
   "execution_count": null,
   "metadata": {},
   "outputs": [],
   "source": []
  }
 ],
 "metadata": {
  "interpreter": {
   "hash": "007fce85138c9462f0c1b8a135b4ca467b2530a781393e5d0a3b48caa18f0882"
  },
  "kernelspec": {
   "display_name": "Python 3.7.12 ('uspto')",
   "language": "python",
   "name": "python3"
  },
  "language_info": {
   "codemirror_mode": {
    "name": "ipython",
    "version": 3
   },
   "file_extension": ".py",
   "mimetype": "text/x-python",
   "name": "python",
   "nbconvert_exporter": "python",
   "pygments_lexer": "ipython3",
   "version": "3.7.12"
  },
  "orig_nbformat": 4
 },
 "nbformat": 4,
 "nbformat_minor": 2
}
