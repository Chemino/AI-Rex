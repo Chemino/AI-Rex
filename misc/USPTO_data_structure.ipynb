{
 "cells": [
  {
   "cell_type": "code",
   "execution_count": 1,
   "metadata": {},
   "outputs": [],
   "source": [
    "import pandas as pd"
   ]
  },
  {
   "cell_type": "code",
   "execution_count": 2,
   "metadata": {},
   "outputs": [
    {
     "name": "stderr",
     "output_type": "stream",
     "text": [
      "c:\\ProgramData\\Anaconda3\\envs\\DOA\\lib\\site-packages\\IPython\\core\\interactiveshell.py:3437: DtypeWarning: Columns (2) have mixed types.Specify dtype option on import or set low_memory=False.\n",
      "  exec(code_obj, self.user_global_ns, self.user_ns)\n"
     ]
    },
    {
     "data": {
      "text/html": [
       "<div>\n",
       "<style scoped>\n",
       "    .dataframe tbody tr th:only-of-type {\n",
       "        vertical-align: middle;\n",
       "    }\n",
       "\n",
       "    .dataframe tbody tr th {\n",
       "        vertical-align: top;\n",
       "    }\n",
       "\n",
       "    .dataframe thead th {\n",
       "        text-align: right;\n",
       "    }\n",
       "</style>\n",
       "<table border=\"1\" class=\"dataframe\">\n",
       "  <thead>\n",
       "    <tr style=\"text-align: right;\">\n",
       "      <th></th>\n",
       "      <th>ReactionSmiles</th>\n",
       "      <th>PatentNumber</th>\n",
       "      <th>ParagraphNum</th>\n",
       "      <th>Year</th>\n",
       "      <th>TextMinedYield</th>\n",
       "      <th>CalculatedYield</th>\n",
       "    </tr>\n",
       "  </thead>\n",
       "  <tbody>\n",
       "    <tr>\n",
       "      <th>0</th>\n",
       "      <td>[Br:1][CH2:2][CH2:3][OH:4].[CH2:5]([S:7](Cl)(=...</td>\n",
       "      <td>US03930836</td>\n",
       "      <td>NaN</td>\n",
       "      <td>1976</td>\n",
       "      <td>NaN</td>\n",
       "      <td>NaN</td>\n",
       "    </tr>\n",
       "    <tr>\n",
       "      <th>1</th>\n",
       "      <td>[Br:1][CH2:2][CH2:3][CH2:4][OH:5].[CH3:6][S:7]...</td>\n",
       "      <td>US03930836</td>\n",
       "      <td>NaN</td>\n",
       "      <td>1976</td>\n",
       "      <td>NaN</td>\n",
       "      <td>NaN</td>\n",
       "    </tr>\n",
       "    <tr>\n",
       "      <th>2</th>\n",
       "      <td>[CH2:1]([Cl:4])[CH2:2][OH:3].CCOCC.[CH2:10]([S...</td>\n",
       "      <td>US03930836</td>\n",
       "      <td>NaN</td>\n",
       "      <td>1976</td>\n",
       "      <td>NaN</td>\n",
       "      <td>NaN</td>\n",
       "    </tr>\n",
       "    <tr>\n",
       "      <th>3</th>\n",
       "      <td>[Br:1][CH2:2][CH2:3][OH:4].[CH2:5]([S:7](Cl)(=...</td>\n",
       "      <td>US03930839</td>\n",
       "      <td>NaN</td>\n",
       "      <td>1976</td>\n",
       "      <td>NaN</td>\n",
       "      <td>NaN</td>\n",
       "    </tr>\n",
       "    <tr>\n",
       "      <th>4</th>\n",
       "      <td>[Br:1][CH2:2][CH2:3][CH2:4][OH:5].[CH3:6][S:7]...</td>\n",
       "      <td>US03930839</td>\n",
       "      <td>NaN</td>\n",
       "      <td>1976</td>\n",
       "      <td>NaN</td>\n",
       "      <td>NaN</td>\n",
       "    </tr>\n",
       "    <tr>\n",
       "      <th>...</th>\n",
       "      <td>...</td>\n",
       "      <td>...</td>\n",
       "      <td>...</td>\n",
       "      <td>...</td>\n",
       "      <td>...</td>\n",
       "      <td>...</td>\n",
       "    </tr>\n",
       "    <tr>\n",
       "      <th>1808932</th>\n",
       "      <td>Br[C:2]1[CH:3]=[CH:4][C:5]2[NH:6][C:7]3[C:12](...</td>\n",
       "      <td>US09450188B2</td>\n",
       "      <td>551</td>\n",
       "      <td>2016</td>\n",
       "      <td>59%</td>\n",
       "      <td>NaN</td>\n",
       "    </tr>\n",
       "    <tr>\n",
       "      <th>1808933</th>\n",
       "      <td>Br[C:2]1[CH:7]=[CH:6][C:5]([C:8]2[C:9]3[C:14](...</td>\n",
       "      <td>US09450188B2</td>\n",
       "      <td>556</td>\n",
       "      <td>2016</td>\n",
       "      <td>80%</td>\n",
       "      <td>77.4%</td>\n",
       "    </tr>\n",
       "    <tr>\n",
       "      <th>1808934</th>\n",
       "      <td>Br[C:2]1[CH:7]=[CH:6][C:5]([C:8]2[CH:21]=[CH:2...</td>\n",
       "      <td>US09450188B2</td>\n",
       "      <td>574</td>\n",
       "      <td>2016</td>\n",
       "      <td>61%</td>\n",
       "      <td>NaN</td>\n",
       "    </tr>\n",
       "    <tr>\n",
       "      <th>1808935</th>\n",
       "      <td>Br[C:2]1[CH:3]=[C:4]([C:8]2[CH:21]=[CH:20][C:1...</td>\n",
       "      <td>US09450188B2</td>\n",
       "      <td>608</td>\n",
       "      <td>2016</td>\n",
       "      <td>70%</td>\n",
       "      <td>69.5%</td>\n",
       "    </tr>\n",
       "    <tr>\n",
       "      <th>1808936</th>\n",
       "      <td>Br[C:2]1[CH:3]=[C:4]([C:8]2[CH:21]=[CH:20][C:1...</td>\n",
       "      <td>US09450188B2</td>\n",
       "      <td>625</td>\n",
       "      <td>2016</td>\n",
       "      <td>60%</td>\n",
       "      <td>58.7%</td>\n",
       "    </tr>\n",
       "  </tbody>\n",
       "</table>\n",
       "<p>1808937 rows × 6 columns</p>\n",
       "</div>"
      ],
      "text/plain": [
       "                                            ReactionSmiles  PatentNumber  \\\n",
       "0        [Br:1][CH2:2][CH2:3][OH:4].[CH2:5]([S:7](Cl)(=...    US03930836   \n",
       "1        [Br:1][CH2:2][CH2:3][CH2:4][OH:5].[CH3:6][S:7]...    US03930836   \n",
       "2        [CH2:1]([Cl:4])[CH2:2][OH:3].CCOCC.[CH2:10]([S...    US03930836   \n",
       "3        [Br:1][CH2:2][CH2:3][OH:4].[CH2:5]([S:7](Cl)(=...    US03930839   \n",
       "4        [Br:1][CH2:2][CH2:3][CH2:4][OH:5].[CH3:6][S:7]...    US03930839   \n",
       "...                                                    ...           ...   \n",
       "1808932  Br[C:2]1[CH:3]=[CH:4][C:5]2[NH:6][C:7]3[C:12](...  US09450188B2   \n",
       "1808933  Br[C:2]1[CH:7]=[CH:6][C:5]([C:8]2[C:9]3[C:14](...  US09450188B2   \n",
       "1808934  Br[C:2]1[CH:7]=[CH:6][C:5]([C:8]2[CH:21]=[CH:2...  US09450188B2   \n",
       "1808935  Br[C:2]1[CH:3]=[C:4]([C:8]2[CH:21]=[CH:20][C:1...  US09450188B2   \n",
       "1808936  Br[C:2]1[CH:3]=[C:4]([C:8]2[CH:21]=[CH:20][C:1...  US09450188B2   \n",
       "\n",
       "        ParagraphNum  Year TextMinedYield CalculatedYield  \n",
       "0                NaN  1976            NaN             NaN  \n",
       "1                NaN  1976            NaN             NaN  \n",
       "2                NaN  1976            NaN             NaN  \n",
       "3                NaN  1976            NaN             NaN  \n",
       "4                NaN  1976            NaN             NaN  \n",
       "...              ...   ...            ...             ...  \n",
       "1808932          551  2016            59%             NaN  \n",
       "1808933          556  2016            80%           77.4%  \n",
       "1808934          574  2016            61%             NaN  \n",
       "1808935          608  2016            70%           69.5%  \n",
       "1808936          625  2016            60%           58.7%  \n",
       "\n",
       "[1808937 rows x 6 columns]"
      ]
     },
     "execution_count": 2,
     "metadata": {},
     "output_type": "execute_result"
    }
   ],
   "source": [
    "uspto = pd.read_csv('1976_Sep2016_USPTOgrants_smiles.rsmi', sep='\\t')\n",
    "uspto"
   ]
  },
  {
   "cell_type": "code",
   "execution_count": 3,
   "metadata": {},
   "outputs": [
    {
     "data": {
      "text/plain": [
       "'[Br:1][CH2:2][CH2:3][OH:4].[CH2:5]([S:7](Cl)(=[O:9])=[O:8])[CH3:6].CCOCC>C(N(CC)CC)C>[CH2:5]([S:7]([O:4][CH2:3][CH2:2][Br:1])(=[O:9])=[O:8])[CH3:6]'"
      ]
     },
     "execution_count": 3,
     "metadata": {},
     "output_type": "execute_result"
    }
   ],
   "source": [
    "uspto['ReactionSmiles'][0]"
   ]
  }
 ],
 "metadata": {
  "interpreter": {
   "hash": "93dfcb9a23ad9ca47f1f597f98e12192b5020d1dd78c588c14c59cd8f45ddec2"
  },
  "kernelspec": {
   "display_name": "Python 3.9.2 ('DOA')",
   "language": "python",
   "name": "python3"
  },
  "language_info": {
   "codemirror_mode": {
    "name": "ipython",
    "version": 3
   },
   "file_extension": ".py",
   "mimetype": "text/x-python",
   "name": "python",
   "nbconvert_exporter": "python",
   "pygments_lexer": "ipython3",
   "version": "3.9.2"
  },
  "orig_nbformat": 4
 },
 "nbformat": 4,
 "nbformat_minor": 2
}
