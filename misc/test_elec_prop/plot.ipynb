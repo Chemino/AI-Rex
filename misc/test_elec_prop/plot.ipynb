{
 "cells": [
  {
   "cell_type": "code",
   "execution_count": 1,
   "metadata": {},
   "outputs": [],
   "source": [
    "import pandas as pd\n",
    "import numpy as np\n",
    "import matplotlib.pyplot as plt\n",
    "from scipy.special import logit\n",
    "import matplotlib\n",
    "matplotlib.rcParams.update({'font.size': 15})"
   ]
  },
  {
   "cell_type": "code",
   "execution_count": 2,
   "metadata": {},
   "outputs": [
    {
     "data": {
      "text/html": [
       "<div>\n",
       "<style scoped>\n",
       "    .dataframe tbody tr th:only-of-type {\n",
       "        vertical-align: middle;\n",
       "    }\n",
       "\n",
       "    .dataframe tbody tr th {\n",
       "        vertical-align: top;\n",
       "    }\n",
       "\n",
       "    .dataframe thead th {\n",
       "        text-align: right;\n",
       "    }\n",
       "</style>\n",
       "<table border=\"1\" class=\"dataframe\">\n",
       "  <thead>\n",
       "    <tr style=\"text-align: right;\">\n",
       "      <th></th>\n",
       "      <th>rxn_smiles</th>\n",
       "      <th>Sigma_p</th>\n",
       "      <th>logit score</th>\n",
       "      <th>feasible_probability</th>\n",
       "    </tr>\n",
       "  </thead>\n",
       "  <tbody>\n",
       "    <tr>\n",
       "      <th>0</th>\n",
       "      <td>NC1=CC=CC=C1.BrBr&gt;&gt;NC1=CC=C(Br)C=C1.Br</td>\n",
       "      <td>-0.30</td>\n",
       "      <td>5.060462</td>\n",
       "      <td>0.992927</td>\n",
       "    </tr>\n",
       "    <tr>\n",
       "      <th>1</th>\n",
       "      <td>OC1=CC=CC=C1.BrBr&gt;&gt;OC1=CC=C(Br)C=C1.Br</td>\n",
       "      <td>-0.38</td>\n",
       "      <td>4.934006</td>\n",
       "      <td>0.995275</td>\n",
       "    </tr>\n",
       "    <tr>\n",
       "      <th>2</th>\n",
       "      <td>OCC1=CC=CC=C1.BrBr&gt;&gt;OCC1=CC=C(Br)C=C1.Br</td>\n",
       "      <td>-0.12</td>\n",
       "      <td>4.659240</td>\n",
       "      <td>0.997194</td>\n",
       "    </tr>\n",
       "    <tr>\n",
       "      <th>3</th>\n",
       "      <td>C(C)(C)CC1=CC=CC=C1.BrBr&gt;&gt;C(C)(C)CC1=CC=C(Br)C...</td>\n",
       "      <td>-0.15</td>\n",
       "      <td>4.495836</td>\n",
       "      <td>0.993578</td>\n",
       "    </tr>\n",
       "    <tr>\n",
       "      <th>4</th>\n",
       "      <td>CC1=CC=CC=C1.BrBr&gt;&gt;CC1=CC=C(Br)C=C1.Br</td>\n",
       "      <td>-0.14</td>\n",
       "      <td>3.217863</td>\n",
       "      <td>0.996870</td>\n",
       "    </tr>\n",
       "    <tr>\n",
       "      <th>5</th>\n",
       "      <td>C1=CC=CC=C1.BrBr&gt;&gt;C1=CC=C(Br)C=C1.Br</td>\n",
       "      <td>0.00</td>\n",
       "      <td>4.714693</td>\n",
       "      <td>0.997181</td>\n",
       "    </tr>\n",
       "    <tr>\n",
       "      <th>6</th>\n",
       "      <td>FC1=CC=CC=C1.BrBr&gt;&gt;FC1=CC=C(Br)C=C1.Br</td>\n",
       "      <td>0.15</td>\n",
       "      <td>3.811222</td>\n",
       "      <td>0.978995</td>\n",
       "    </tr>\n",
       "    <tr>\n",
       "      <th>7</th>\n",
       "      <td>ClC1=CC=CC=C1.BrBr&gt;&gt;ClC1=CC=C(Br)C=C1.Br</td>\n",
       "      <td>0.24</td>\n",
       "      <td>2.772652</td>\n",
       "      <td>0.992889</td>\n",
       "    </tr>\n",
       "    <tr>\n",
       "      <th>8</th>\n",
       "      <td>BrC1=CC=CC=C1.BrBr&gt;&gt;BrC1=CC=C(Br)C=C1.Br</td>\n",
       "      <td>0.26</td>\n",
       "      <td>2.761682</td>\n",
       "      <td>0.998642</td>\n",
       "    </tr>\n",
       "    <tr>\n",
       "      <th>9</th>\n",
       "      <td>IC1=CC=CC=C1.BrBr&gt;&gt;IC1=CC=C(Br)C=C1.Br</td>\n",
       "      <td>0.18</td>\n",
       "      <td>4.343751</td>\n",
       "      <td>0.999263</td>\n",
       "    </tr>\n",
       "    <tr>\n",
       "      <th>10</th>\n",
       "      <td>COC(=O)C1=CC=CC=C1.BrBr&gt;&gt;COC(=O)C1=CC=C(Br)C=C...</td>\n",
       "      <td>0.31</td>\n",
       "      <td>0.443138</td>\n",
       "      <td>0.982116</td>\n",
       "    </tr>\n",
       "    <tr>\n",
       "      <th>11</th>\n",
       "      <td>OC(=O)C1=CC=CC=C1.BrBr&gt;&gt;OC(=O)C1=CC=C(Br)C=C1.Br</td>\n",
       "      <td>0.44</td>\n",
       "      <td>-0.080967</td>\n",
       "      <td>0.972146</td>\n",
       "    </tr>\n",
       "    <tr>\n",
       "      <th>12</th>\n",
       "      <td>FC(F)(F)C1=CC=CC=C1.BrBr&gt;&gt;FC(F)(F)C1=CC=C(Br)C...</td>\n",
       "      <td>0.53</td>\n",
       "      <td>0.010461</td>\n",
       "      <td>0.948152</td>\n",
       "    </tr>\n",
       "    <tr>\n",
       "      <th>13</th>\n",
       "      <td>N#CC1=CC=CC=C1.BrBr&gt;&gt;BrC1=CC=C(C=C1)C#N.Br</td>\n",
       "      <td>0.70</td>\n",
       "      <td>-0.324360</td>\n",
       "      <td>0.960667</td>\n",
       "    </tr>\n",
       "  </tbody>\n",
       "</table>\n",
       "</div>"
      ],
      "text/plain": [
       "                                           rxn_smiles  Sigma_p  logit score  \\\n",
       "0              NC1=CC=CC=C1.BrBr>>NC1=CC=C(Br)C=C1.Br    -0.30     5.060462   \n",
       "1              OC1=CC=CC=C1.BrBr>>OC1=CC=C(Br)C=C1.Br    -0.38     4.934006   \n",
       "2            OCC1=CC=CC=C1.BrBr>>OCC1=CC=C(Br)C=C1.Br    -0.12     4.659240   \n",
       "3   C(C)(C)CC1=CC=CC=C1.BrBr>>C(C)(C)CC1=CC=C(Br)C...    -0.15     4.495836   \n",
       "4              CC1=CC=CC=C1.BrBr>>CC1=CC=C(Br)C=C1.Br    -0.14     3.217863   \n",
       "5                C1=CC=CC=C1.BrBr>>C1=CC=C(Br)C=C1.Br     0.00     4.714693   \n",
       "6              FC1=CC=CC=C1.BrBr>>FC1=CC=C(Br)C=C1.Br     0.15     3.811222   \n",
       "7            ClC1=CC=CC=C1.BrBr>>ClC1=CC=C(Br)C=C1.Br     0.24     2.772652   \n",
       "8            BrC1=CC=CC=C1.BrBr>>BrC1=CC=C(Br)C=C1.Br     0.26     2.761682   \n",
       "9              IC1=CC=CC=C1.BrBr>>IC1=CC=C(Br)C=C1.Br     0.18     4.343751   \n",
       "10  COC(=O)C1=CC=CC=C1.BrBr>>COC(=O)C1=CC=C(Br)C=C...     0.31     0.443138   \n",
       "11   OC(=O)C1=CC=CC=C1.BrBr>>OC(=O)C1=CC=C(Br)C=C1.Br     0.44    -0.080967   \n",
       "12  FC(F)(F)C1=CC=CC=C1.BrBr>>FC(F)(F)C1=CC=C(Br)C...     0.53     0.010461   \n",
       "13         N#CC1=CC=CC=C1.BrBr>>BrC1=CC=C(C=C1)C#N.Br     0.70    -0.324360   \n",
       "\n",
       "    feasible_probability  \n",
       "0               0.992927  \n",
       "1               0.995275  \n",
       "2               0.997194  \n",
       "3               0.993578  \n",
       "4               0.996870  \n",
       "5               0.997181  \n",
       "6               0.978995  \n",
       "7               0.992889  \n",
       "8               0.998642  \n",
       "9               0.999263  \n",
       "10              0.982116  \n",
       "11              0.972146  \n",
       "12              0.948152  \n",
       "13              0.960667  "
      ]
     },
     "execution_count": 2,
     "metadata": {},
     "output_type": "execute_result"
    }
   ],
   "source": [
    "df = pd.read_csv('Bromination.csv').merge(pd.read_csv('Bromination_result.csv'), left_on='Reaction Smiles', right_on='rxn_smiles')\n",
    "df = df[['rxn_smiles', 'Sigma_p', 'logit score', 'feasible_probability']]\n",
    "df"
   ]
  },
  {
   "cell_type": "code",
   "execution_count": 3,
   "metadata": {},
   "outputs": [],
   "source": [
    "def least_squares(x, y):\n",
    "\n",
    "    # assemble matrix A\n",
    "    A = np.vstack([x, np.ones(len(x))]).T\n",
    "\n",
    "    # turn y into a column vector\n",
    "    y = y[:, np.newaxis]\n",
    "\n",
    "    # Direct least square regression\n",
    "    alpha = np.dot((np.dot(np.linalg.inv(np.dot(A.T,A)),A.T)),y)\n",
    "\n",
    "    return alpha"
   ]
  },
  {
   "cell_type": "code",
   "execution_count": 4,
   "metadata": {},
   "outputs": [
    {
     "name": "stderr",
     "output_type": "stream",
     "text": [
      "C:\\Users\\yifen\\AppData\\Local\\Temp\\ipykernel_25416\\2661043427.py:7: FutureWarning: Support for multi-dimensional indexing (e.g. `obj[:, None]`) is deprecated and will be removed in a future version.  Convert to a numpy array before indexing instead.\n",
      "  y = y[:, np.newaxis]\n"
     ]
    }
   ],
   "source": [
    "nat = least_squares(df['logit score'], df['Sigma_p'])\n",
    "gnn = least_squares(logit(df['feasible_probability']), df['Sigma_p'])"
   ]
  },
  {
   "cell_type": "code",
   "execution_count": 5,
   "metadata": {},
   "outputs": [
    {
     "data": {
      "image/png": "[encoded data removed]",
      "text/plain": [
       "<Figure size 432x288 with 1 Axes>"
      ]
     },
     "metadata": {
      "needs_background": "light"
     },
     "output_type": "display_data"
    }
   ],
   "source": [
    "plt.scatter(df['logit score'], df['Sigma_p'], color='tab:blue', label='Nature 2018')\n",
    "plt.plot(df['logit score'], nat[0]*df['logit score']+nat[1], color='tab:blue')\n",
    "plt.scatter(logit(df['feasible_probability']), df['Sigma_p'], color='tab:orange', label='Our GNN without QM')\n",
    "plt.plot(logit(df['feasible_probability']), gnn[0]*logit(df['feasible_probability'])+gnn[1], color='tab:orange')\n",
    "plt.xlabel('Logit score of feasibility')\n",
    "plt.ylabel('Hammond Sigma')\n",
    "plt.title('para-Bromination of benzenes')\n",
    "plt.legend()\n",
    "plt.savefig('bro.png', dpi=300, bbox_inches='tight')"
   ]
  },
  {
   "cell_type": "code",
   "execution_count": 6,
   "metadata": {},
   "outputs": [
    {
     "data": {
      "text/html": [
       "<div>\n",
       "<style scoped>\n",
       "    .dataframe tbody tr th:only-of-type {\n",
       "        vertical-align: middle;\n",
       "    }\n",
       "\n",
       "    .dataframe tbody tr th {\n",
       "        vertical-align: top;\n",
       "    }\n",
       "\n",
       "    .dataframe thead th {\n",
       "        text-align: right;\n",
       "    }\n",
       "</style>\n",
       "<table border=\"1\" class=\"dataframe\">\n",
       "  <thead>\n",
       "    <tr style=\"text-align: right;\">\n",
       "      <th></th>\n",
       "      <th>rxn_smiles</th>\n",
       "      <th>dienophile LUMO</th>\n",
       "      <th>logit</th>\n",
       "      <th>feasible_probability</th>\n",
       "      <th>logit_</th>\n",
       "    </tr>\n",
       "  </thead>\n",
       "  <tbody>\n",
       "    <tr>\n",
       "      <th>0</th>\n",
       "      <td>C=CC1=CC=CC=C1.C1C=CC=C1&gt;&gt;C1C2CC(C1C=C2)C1=CC=...</td>\n",
       "      <td>-0.073518</td>\n",
       "      <td>10.355105</td>\n",
       "      <td>0.656901</td>\n",
       "      <td>0.649514</td>\n",
       "    </tr>\n",
       "    <tr>\n",
       "      <th>1</th>\n",
       "      <td>COC(=O)C=C.C1C=CC=C1&gt;&gt;COC(=O)C1CC2CC1C=C2</td>\n",
       "      <td>-0.083558</td>\n",
       "      <td>11.839735</td>\n",
       "      <td>0.585455</td>\n",
       "      <td>0.345209</td>\n",
       "    </tr>\n",
       "    <tr>\n",
       "      <th>2</th>\n",
       "      <td>CCCCCC=C.C1C=CC=C1&gt;&gt;CCCCCC1CC2CC1C=C2</td>\n",
       "      <td>-0.022436</td>\n",
       "      <td>5.909931</td>\n",
       "      <td>0.896891</td>\n",
       "      <td>2.163151</td>\n",
       "    </tr>\n",
       "    <tr>\n",
       "      <th>3</th>\n",
       "      <td>CN1C(=O)C=CC1=O.C1C=CC=C1&gt;&gt;CN1C(=O)C2C3CC(C=C3...</td>\n",
       "      <td>-0.134464</td>\n",
       "      <td>12.541184</td>\n",
       "      <td>0.597982</td>\n",
       "      <td>0.397065</td>\n",
       "    </tr>\n",
       "    <tr>\n",
       "      <th>4</th>\n",
       "      <td>COC(=O)C#CC(=O)OC.C1C=CC=C1&gt;&gt;COC(=O)C1=C(C2CC1...</td>\n",
       "      <td>-0.094373</td>\n",
       "      <td>12.461141</td>\n",
       "      <td>0.618384</td>\n",
       "      <td>0.482693</td>\n",
       "    </tr>\n",
       "    <tr>\n",
       "      <th>5</th>\n",
       "      <td>CNC(=O)C=C.C1C=CC=C1&gt;&gt;CNC(=O)C1CC2CC1C=C2</td>\n",
       "      <td>-0.070099</td>\n",
       "      <td>9.332947</td>\n",
       "      <td>0.749976</td>\n",
       "      <td>1.098482</td>\n",
       "    </tr>\n",
       "    <tr>\n",
       "      <th>6</th>\n",
       "      <td>CN(C)C1=CC=C(C=C)C=C1.C1C=CC=C1&gt;&gt;CN(C)C1=CC=C(...</td>\n",
       "      <td>-0.050172</td>\n",
       "      <td>10.147809</td>\n",
       "      <td>0.908748</td>\n",
       "      <td>2.298440</td>\n",
       "    </tr>\n",
       "    <tr>\n",
       "      <th>7</th>\n",
       "      <td>ClC=C.C1C=CC=C1&gt;&gt;ClC1CC2CC1C=C2</td>\n",
       "      <td>-0.043682</td>\n",
       "      <td>8.823412</td>\n",
       "      <td>0.813039</td>\n",
       "      <td>1.469882</td>\n",
       "    </tr>\n",
       "    <tr>\n",
       "      <th>8</th>\n",
       "      <td>COC(=O)C=CC(=O)OC.C1C=CC=C1&gt;&gt;COC(=O)C1C2CC(C=C...</td>\n",
       "      <td>-0.118603</td>\n",
       "      <td>11.342216</td>\n",
       "      <td>0.449698</td>\n",
       "      <td>-0.201889</td>\n",
       "    </tr>\n",
       "  </tbody>\n",
       "</table>\n",
       "</div>"
      ],
      "text/plain": [
       "                                          rxn_smiles  dienophile LUMO  \\\n",
       "0  C=CC1=CC=CC=C1.C1C=CC=C1>>C1C2CC(C1C=C2)C1=CC=...        -0.073518   \n",
       "1          COC(=O)C=C.C1C=CC=C1>>COC(=O)C1CC2CC1C=C2        -0.083558   \n",
       "2              CCCCCC=C.C1C=CC=C1>>CCCCCC1CC2CC1C=C2        -0.022436   \n",
       "3  CN1C(=O)C=CC1=O.C1C=CC=C1>>CN1C(=O)C2C3CC(C=C3...        -0.134464   \n",
       "4  COC(=O)C#CC(=O)OC.C1C=CC=C1>>COC(=O)C1=C(C2CC1...        -0.094373   \n",
       "5          CNC(=O)C=C.C1C=CC=C1>>CNC(=O)C1CC2CC1C=C2        -0.070099   \n",
       "6  CN(C)C1=CC=C(C=C)C=C1.C1C=CC=C1>>CN(C)C1=CC=C(...        -0.050172   \n",
       "7                    ClC=C.C1C=CC=C1>>ClC1CC2CC1C=C2        -0.043682   \n",
       "8  COC(=O)C=CC(=O)OC.C1C=CC=C1>>COC(=O)C1C2CC(C=C...        -0.118603   \n",
       "\n",
       "       logit  feasible_probability    logit_  \n",
       "0  10.355105              0.656901  0.649514  \n",
       "1  11.839735              0.585455  0.345209  \n",
       "2   5.909931              0.896891  2.163151  \n",
       "3  12.541184              0.597982  0.397065  \n",
       "4  12.461141              0.618384  0.482693  \n",
       "5   9.332947              0.749976  1.098482  \n",
       "6  10.147809              0.908748  2.298440  \n",
       "7   8.823412              0.813039  1.469882  \n",
       "8  11.342216              0.449698 -0.201889  "
      ]
     },
     "execution_count": 6,
     "metadata": {},
     "output_type": "execute_result"
    }
   ],
   "source": [
    "df = pd.read_csv('Diels-Alder.csv').merge(pd.read_csv('Diels-Alder_result.csv'), left_on='Reaction Smiles', right_on='rxn_smiles')\n",
    "df = df[['rxn_smiles', 'dienophile LUMO', 'logit', 'feasible_probability']]\n",
    "df['logit_'] = logit(df['feasible_probability'])\n",
    "df"
   ]
  },
  {
   "cell_type": "code",
   "execution_count": 7,
   "metadata": {},
   "outputs": [
    {
     "name": "stderr",
     "output_type": "stream",
     "text": [
      "C:\\Users\\yifen\\AppData\\Local\\Temp\\ipykernel_25416\\2661043427.py:7: FutureWarning: Support for multi-dimensional indexing (e.g. `obj[:, None]`) is deprecated and will be removed in a future version.  Convert to a numpy array before indexing instead.\n",
      "  y = y[:, np.newaxis]\n"
     ]
    }
   ],
   "source": [
    "nat = least_squares(df['logit'], df['dienophile LUMO'])\n",
    "gnn = least_squares(df['logit_'], df['dienophile LUMO'])"
   ]
  },
  {
   "cell_type": "code",
   "execution_count": 8,
   "metadata": {},
   "outputs": [
    {
     "data": {
      "image/png": "[encoded data removed]",
      "text/plain": [
       "<Figure size 432x288 with 1 Axes>"
      ]
     },
     "metadata": {
      "needs_background": "light"
     },
     "output_type": "display_data"
    }
   ],
   "source": [
    "plt.scatter(df['logit'], df['dienophile LUMO'], color='tab:blue', label='Nature 2018')\n",
    "plt.plot(df['logit'], nat[0]*df['logit']+nat[1], color='tab:blue')\n",
    "plt.scatter(df['logit_'], df['dienophile LUMO'], color='tab:orange', label='Our GNN without QM')\n",
    "plt.plot(df['logit_'], gnn[0]*df['logit_']+gnn[1], color='tab:orange')\n",
    "plt.xlabel('Logit score of feasibility')\n",
    "plt.ylabel('LUMO engergy / Hartree')\n",
    "plt.title('Diels-Alder reactions with Cyclopentadiene')\n",
    "plt.legend()\n",
    "plt.savefig('da.png', dpi=300, bbox_inches='tight')"
   ]
  }
 ],
 "metadata": {
  "interpreter": {
   "hash": "c45e1f4cff16ded6653d5122b243e74746b1533e5e96f730958c4db3332ffa40"
  },
  "kernelspec": {
   "display_name": "Python 3.10.0 ('AIHacks')",
   "language": "python",
   "name": "python3"
  },
  "language_info": {
   "codemirror_mode": {
    "name": "ipython",
    "version": 3
   },
   "file_extension": ".py",
   "mimetype": "text/x-python",
   "name": "python",
   "nbconvert_exporter": "python",
   "pygments_lexer": "ipython3",
   "version": "3.10.0"
  },
  "orig_nbformat": 4
 },
 "nbformat": 4,
 "nbformat_minor": 2
}
